{
 "cells": [
  {
   "cell_type": "code",
   "execution_count": 1,
   "id": "c8ad5b58",
   "metadata": {
    "_cell_guid": "b1076dfc-b9ad-4769-8c92-a6c4dae69d19",
    "_uuid": "8f2839f25d086af736a60e9eeb907d3b93b6e0e5",
    "execution": {
     "iopub.execute_input": "2023-04-09T23:00:52.034102Z",
     "iopub.status.busy": "2023-04-09T23:00:52.033681Z",
     "iopub.status.idle": "2023-04-09T23:00:52.054234Z",
     "shell.execute_reply": "2023-04-09T23:00:52.053302Z"
    },
    "papermill": {
     "duration": 0.034428,
     "end_time": "2023-04-09T23:00:52.056603",
     "exception": false,
     "start_time": "2023-04-09T23:00:52.022175",
     "status": "completed"
    },
    "tags": []
   },
   "outputs": [
    {
     "name": "stdout",
     "output_type": "stream",
     "text": [
      "/kaggle/input/customer-personality-analysis/marketing_campaign.csv\n"
     ]
    }
   ],
   "source": [
    "# This Python 3 environment comes with many helpful analytics libraries installed\n",
    "# It is defined by the kaggle/python Docker image: https://github.com/kaggle/docker-python\n",
    "# For example, here's several helpful packages to load\n",
    "\n",
    "import numpy as np # linear algebra\n",
    "import pandas as pd # data processing, CSV file I/O (e.g. pd.read_csv)\n",
    "\n",
    "# Input data files are available in the read-only \"../input/\" directory\n",
    "# For example, running this (by clicking run or pressing Shift+Enter) will list all files under the input directory\n",
    "\n",
    "import os\n",
    "for dirname, _, filenames in os.walk('/kaggle/input'):\n",
    "    for filename in filenames:\n",
    "        print(os.path.join(dirname, filename))\n",
    "\n",
    "# You can write up to 20GB to the current directory (/kaggle/working/) that gets preserved as output when you create a version using \"Save & Run All\" \n",
    "# You can also write temporary files to /kaggle/temp/, but they won't be saved outside of the current session"
   ]
  },
  {
   "cell_type": "code",
   "execution_count": 2,
   "id": "30976eed",
   "metadata": {
    "execution": {
     "iopub.execute_input": "2023-04-09T23:00:52.076593Z",
     "iopub.status.busy": "2023-04-09T23:00:52.075746Z",
     "iopub.status.idle": "2023-04-09T23:00:54.313035Z",
     "shell.execute_reply": "2023-04-09T23:00:54.311759Z"
    },
    "papermill": {
     "duration": 2.250652,
     "end_time": "2023-04-09T23:00:54.316063",
     "exception": false,
     "start_time": "2023-04-09T23:00:52.065411",
     "status": "completed"
    },
    "tags": []
   },
   "outputs": [],
   "source": [
    "#Importing the Libraries\n",
    "import numpy as np\n",
    "import pandas as pd\n",
    "import datetime\n",
    "import matplotlib\n",
    "import matplotlib.pyplot as plt\n",
    "from matplotlib import colors\n",
    "import seaborn as sns\n",
    "from sklearn.preprocessing import LabelEncoder\n",
    "from sklearn.preprocessing import StandardScaler\n",
    "from sklearn.decomposition import PCA\n",
    "from yellowbrick.cluster import KElbowVisualizer\n",
    "from sklearn.cluster import KMeans\n",
    "import matplotlib.pyplot as plt, numpy as np\n",
    "from mpl_toolkits.mplot3d import Axes3D\n",
    "from sklearn.cluster import AgglomerativeClustering\n",
    "from matplotlib.colors import ListedColormap\n",
    "from sklearn import metrics\n",
    "import warnings\n",
    "import sys\n",
    "if not sys.warnoptions:\n",
    "    warnings.simplefilter(\"ignore\")\n",
    "np.random.seed(42)"
   ]
  },
  {
   "cell_type": "code",
   "execution_count": 3,
   "id": "573b3b38",
   "metadata": {
    "execution": {
     "iopub.execute_input": "2023-04-09T23:00:54.335083Z",
     "iopub.status.busy": "2023-04-09T23:00:54.334677Z",
     "iopub.status.idle": "2023-04-09T23:00:54.403749Z",
     "shell.execute_reply": "2023-04-09T23:00:54.402382Z"
    },
    "papermill": {
     "duration": 0.081846,
     "end_time": "2023-04-09T23:00:54.406612",
     "exception": false,
     "start_time": "2023-04-09T23:00:54.324766",
     "status": "completed"
    },
    "tags": []
   },
   "outputs": [
    {
     "name": "stdout",
     "output_type": "stream",
     "text": [
      "Number of datapoints: 2240\n"
     ]
    },
    {
     "data": {
      "text/html": [
       "<div>\n",
       "<style scoped>\n",
       "    .dataframe tbody tr th:only-of-type {\n",
       "        vertical-align: middle;\n",
       "    }\n",
       "\n",
       "    .dataframe tbody tr th {\n",
       "        vertical-align: top;\n",
       "    }\n",
       "\n",
       "    .dataframe thead th {\n",
       "        text-align: right;\n",
       "    }\n",
       "</style>\n",
       "<table border=\"1\" class=\"dataframe\">\n",
       "  <thead>\n",
       "    <tr style=\"text-align: right;\">\n",
       "      <th></th>\n",
       "      <th>ID</th>\n",
       "      <th>Year_Birth</th>\n",
       "      <th>Education</th>\n",
       "      <th>Marital_Status</th>\n",
       "      <th>Income</th>\n",
       "      <th>Kidhome</th>\n",
       "      <th>Teenhome</th>\n",
       "      <th>Dt_Customer</th>\n",
       "      <th>Recency</th>\n",
       "      <th>MntWines</th>\n",
       "      <th>...</th>\n",
       "      <th>NumWebVisitsMonth</th>\n",
       "      <th>AcceptedCmp3</th>\n",
       "      <th>AcceptedCmp4</th>\n",
       "      <th>AcceptedCmp5</th>\n",
       "      <th>AcceptedCmp1</th>\n",
       "      <th>AcceptedCmp2</th>\n",
       "      <th>Complain</th>\n",
       "      <th>Z_CostContact</th>\n",
       "      <th>Z_Revenue</th>\n",
       "      <th>Response</th>\n",
       "    </tr>\n",
       "  </thead>\n",
       "  <tbody>\n",
       "    <tr>\n",
       "      <th>0</th>\n",
       "      <td>5524</td>\n",
       "      <td>1957</td>\n",
       "      <td>Graduation</td>\n",
       "      <td>Single</td>\n",
       "      <td>58138.0</td>\n",
       "      <td>0</td>\n",
       "      <td>0</td>\n",
       "      <td>04-09-2012</td>\n",
       "      <td>58</td>\n",
       "      <td>635</td>\n",
       "      <td>...</td>\n",
       "      <td>7</td>\n",
       "      <td>0</td>\n",
       "      <td>0</td>\n",
       "      <td>0</td>\n",
       "      <td>0</td>\n",
       "      <td>0</td>\n",
       "      <td>0</td>\n",
       "      <td>3</td>\n",
       "      <td>11</td>\n",
       "      <td>1</td>\n",
       "    </tr>\n",
       "    <tr>\n",
       "      <th>1</th>\n",
       "      <td>2174</td>\n",
       "      <td>1954</td>\n",
       "      <td>Graduation</td>\n",
       "      <td>Single</td>\n",
       "      <td>46344.0</td>\n",
       "      <td>1</td>\n",
       "      <td>1</td>\n",
       "      <td>08-03-2014</td>\n",
       "      <td>38</td>\n",
       "      <td>11</td>\n",
       "      <td>...</td>\n",
       "      <td>5</td>\n",
       "      <td>0</td>\n",
       "      <td>0</td>\n",
       "      <td>0</td>\n",
       "      <td>0</td>\n",
       "      <td>0</td>\n",
       "      <td>0</td>\n",
       "      <td>3</td>\n",
       "      <td>11</td>\n",
       "      <td>0</td>\n",
       "    </tr>\n",
       "    <tr>\n",
       "      <th>2</th>\n",
       "      <td>4141</td>\n",
       "      <td>1965</td>\n",
       "      <td>Graduation</td>\n",
       "      <td>Together</td>\n",
       "      <td>71613.0</td>\n",
       "      <td>0</td>\n",
       "      <td>0</td>\n",
       "      <td>21-08-2013</td>\n",
       "      <td>26</td>\n",
       "      <td>426</td>\n",
       "      <td>...</td>\n",
       "      <td>4</td>\n",
       "      <td>0</td>\n",
       "      <td>0</td>\n",
       "      <td>0</td>\n",
       "      <td>0</td>\n",
       "      <td>0</td>\n",
       "      <td>0</td>\n",
       "      <td>3</td>\n",
       "      <td>11</td>\n",
       "      <td>0</td>\n",
       "    </tr>\n",
       "    <tr>\n",
       "      <th>3</th>\n",
       "      <td>6182</td>\n",
       "      <td>1984</td>\n",
       "      <td>Graduation</td>\n",
       "      <td>Together</td>\n",
       "      <td>26646.0</td>\n",
       "      <td>1</td>\n",
       "      <td>0</td>\n",
       "      <td>10-02-2014</td>\n",
       "      <td>26</td>\n",
       "      <td>11</td>\n",
       "      <td>...</td>\n",
       "      <td>6</td>\n",
       "      <td>0</td>\n",
       "      <td>0</td>\n",
       "      <td>0</td>\n",
       "      <td>0</td>\n",
       "      <td>0</td>\n",
       "      <td>0</td>\n",
       "      <td>3</td>\n",
       "      <td>11</td>\n",
       "      <td>0</td>\n",
       "    </tr>\n",
       "    <tr>\n",
       "      <th>4</th>\n",
       "      <td>5324</td>\n",
       "      <td>1981</td>\n",
       "      <td>PhD</td>\n",
       "      <td>Married</td>\n",
       "      <td>58293.0</td>\n",
       "      <td>1</td>\n",
       "      <td>0</td>\n",
       "      <td>19-01-2014</td>\n",
       "      <td>94</td>\n",
       "      <td>173</td>\n",
       "      <td>...</td>\n",
       "      <td>5</td>\n",
       "      <td>0</td>\n",
       "      <td>0</td>\n",
       "      <td>0</td>\n",
       "      <td>0</td>\n",
       "      <td>0</td>\n",
       "      <td>0</td>\n",
       "      <td>3</td>\n",
       "      <td>11</td>\n",
       "      <td>0</td>\n",
       "    </tr>\n",
       "  </tbody>\n",
       "</table>\n",
       "<p>5 rows × 29 columns</p>\n",
       "</div>"
      ],
      "text/plain": [
       "     ID  Year_Birth   Education Marital_Status   Income  Kidhome  Teenhome  \\\n",
       "0  5524        1957  Graduation         Single  58138.0        0         0   \n",
       "1  2174        1954  Graduation         Single  46344.0        1         1   \n",
       "2  4141        1965  Graduation       Together  71613.0        0         0   \n",
       "3  6182        1984  Graduation       Together  26646.0        1         0   \n",
       "4  5324        1981         PhD        Married  58293.0        1         0   \n",
       "\n",
       "  Dt_Customer  Recency  MntWines  ...  NumWebVisitsMonth  AcceptedCmp3  \\\n",
       "0  04-09-2012       58       635  ...                  7             0   \n",
       "1  08-03-2014       38        11  ...                  5             0   \n",
       "2  21-08-2013       26       426  ...                  4             0   \n",
       "3  10-02-2014       26        11  ...                  6             0   \n",
       "4  19-01-2014       94       173  ...                  5             0   \n",
       "\n",
       "   AcceptedCmp4  AcceptedCmp5  AcceptedCmp1  AcceptedCmp2  Complain  \\\n",
       "0             0             0             0             0         0   \n",
       "1             0             0             0             0         0   \n",
       "2             0             0             0             0         0   \n",
       "3             0             0             0             0         0   \n",
       "4             0             0             0             0         0   \n",
       "\n",
       "   Z_CostContact  Z_Revenue  Response  \n",
       "0              3         11         1  \n",
       "1              3         11         0  \n",
       "2              3         11         0  \n",
       "3              3         11         0  \n",
       "4              3         11         0  \n",
       "\n",
       "[5 rows x 29 columns]"
      ]
     },
     "execution_count": 3,
     "metadata": {},
     "output_type": "execute_result"
    }
   ],
   "source": [
    "#Loading the dataset\n",
    "data = pd.read_csv(\"../input/customer-personality-analysis/marketing_campaign.csv\", sep=\"\\t\")\n",
    "print(\"Number of datapoints:\", len(data))\n",
    "data.head()"
   ]
  },
  {
   "cell_type": "markdown",
   "id": "3496f3b9",
   "metadata": {
    "papermill": {
     "duration": 0.008549,
     "end_time": "2023-04-09T23:00:54.424311",
     "exception": false,
     "start_time": "2023-04-09T23:00:54.415762",
     "status": "completed"
    },
    "tags": []
   },
   "source": [
    "### Feature Engineering"
   ]
  },
  {
   "cell_type": "markdown",
   "id": "bbe8b6fa",
   "metadata": {
    "papermill": {
     "duration": 0.008282,
     "end_time": "2023-04-09T23:00:54.441235",
     "exception": false,
     "start_time": "2023-04-09T23:00:54.432953",
     "status": "completed"
    },
    "tags": []
   },
   "source": [
    "Have a look at the information in data."
   ]
  },
  {
   "cell_type": "code",
   "execution_count": 4,
   "id": "7b1a8d17",
   "metadata": {
    "execution": {
     "iopub.execute_input": "2023-04-09T23:00:54.460662Z",
     "iopub.status.busy": "2023-04-09T23:00:54.460225Z",
     "iopub.status.idle": "2023-04-09T23:00:54.489371Z",
     "shell.execute_reply": "2023-04-09T23:00:54.487255Z"
    },
    "papermill": {
     "duration": 0.042472,
     "end_time": "2023-04-09T23:00:54.492352",
     "exception": false,
     "start_time": "2023-04-09T23:00:54.449880",
     "status": "completed"
    },
    "tags": []
   },
   "outputs": [
    {
     "name": "stdout",
     "output_type": "stream",
     "text": [
      "<class 'pandas.core.frame.DataFrame'>\n",
      "RangeIndex: 2240 entries, 0 to 2239\n",
      "Data columns (total 29 columns):\n",
      " #   Column               Non-Null Count  Dtype  \n",
      "---  ------               --------------  -----  \n",
      " 0   ID                   2240 non-null   int64  \n",
      " 1   Year_Birth           2240 non-null   int64  \n",
      " 2   Education            2240 non-null   object \n",
      " 3   Marital_Status       2240 non-null   object \n",
      " 4   Income               2216 non-null   float64\n",
      " 5   Kidhome              2240 non-null   int64  \n",
      " 6   Teenhome             2240 non-null   int64  \n",
      " 7   Dt_Customer          2240 non-null   object \n",
      " 8   Recency              2240 non-null   int64  \n",
      " 9   MntWines             2240 non-null   int64  \n",
      " 10  MntFruits            2240 non-null   int64  \n",
      " 11  MntMeatProducts      2240 non-null   int64  \n",
      " 12  MntFishProducts      2240 non-null   int64  \n",
      " 13  MntSweetProducts     2240 non-null   int64  \n",
      " 14  MntGoldProds         2240 non-null   int64  \n",
      " 15  NumDealsPurchases    2240 non-null   int64  \n",
      " 16  NumWebPurchases      2240 non-null   int64  \n",
      " 17  NumCatalogPurchases  2240 non-null   int64  \n",
      " 18  NumStorePurchases    2240 non-null   int64  \n",
      " 19  NumWebVisitsMonth    2240 non-null   int64  \n",
      " 20  AcceptedCmp3         2240 non-null   int64  \n",
      " 21  AcceptedCmp4         2240 non-null   int64  \n",
      " 22  AcceptedCmp5         2240 non-null   int64  \n",
      " 23  AcceptedCmp1         2240 non-null   int64  \n",
      " 24  AcceptedCmp2         2240 non-null   int64  \n",
      " 25  Complain             2240 non-null   int64  \n",
      " 26  Z_CostContact        2240 non-null   int64  \n",
      " 27  Z_Revenue            2240 non-null   int64  \n",
      " 28  Response             2240 non-null   int64  \n",
      "dtypes: float64(1), int64(25), object(3)\n",
      "memory usage: 507.6+ KB\n"
     ]
    }
   ],
   "source": [
    "#Information on features \n",
    "data.info()"
   ]
  },
  {
   "cell_type": "markdown",
   "id": "70be9fab",
   "metadata": {
    "papermill": {
     "duration": 0.009503,
     "end_time": "2023-04-09T23:00:54.510950",
     "exception": false,
     "start_time": "2023-04-09T23:00:54.501447",
     "status": "completed"
    },
    "tags": []
   },
   "source": [
    "we have 3 caterogical attributes. There are several miss values on Income attribute. "
   ]
  },
  {
   "cell_type": "code",
   "execution_count": 5,
   "id": "35b23dd8",
   "metadata": {
    "execution": {
     "iopub.execute_input": "2023-04-09T23:00:54.532572Z",
     "iopub.status.busy": "2023-04-09T23:00:54.531713Z",
     "iopub.status.idle": "2023-04-09T23:00:54.543640Z",
     "shell.execute_reply": "2023-04-09T23:00:54.541933Z"
    },
    "papermill": {
     "duration": 0.025309,
     "end_time": "2023-04-09T23:00:54.546545",
     "exception": false,
     "start_time": "2023-04-09T23:00:54.521236",
     "status": "completed"
    },
    "tags": []
   },
   "outputs": [
    {
     "name": "stdout",
     "output_type": "stream",
     "text": [
      "The total number of data-points before removing the rows with missing values are: 2240\n",
      "The total number of data-points after removing the rows with missing values are: 2216\n"
     ]
    }
   ],
   "source": [
    "#To remove the NA values\n",
    "print(\"The total number of data-points before removing the rows with missing values are:\", len(data))\n",
    "df = data.dropna()\n",
    "print(\"The total number of data-points after removing the rows with missing values are:\", len(df))"
   ]
  },
  {
   "cell_type": "markdown",
   "id": "ada0cfff",
   "metadata": {
    "papermill": {
     "duration": 0.009194,
     "end_time": "2023-04-09T23:00:54.565060",
     "exception": false,
     "start_time": "2023-04-09T23:00:54.555866",
     "status": "completed"
    },
    "tags": []
   },
   "source": [
    "**Convert object to dateTime type on Dt_Customer**"
   ]
  },
  {
   "cell_type": "code",
   "execution_count": 6,
   "id": "af20f3b6",
   "metadata": {
    "execution": {
     "iopub.execute_input": "2023-04-09T23:00:54.585967Z",
     "iopub.status.busy": "2023-04-09T23:00:54.585544Z",
     "iopub.status.idle": "2023-04-09T23:00:54.595351Z",
     "shell.execute_reply": "2023-04-09T23:00:54.594042Z"
    },
    "papermill": {
     "duration": 0.023463,
     "end_time": "2023-04-09T23:00:54.598005",
     "exception": false,
     "start_time": "2023-04-09T23:00:54.574542",
     "status": "completed"
    },
    "tags": []
   },
   "outputs": [
    {
     "data": {
      "text/plain": [
       "0    04-09-2012\n",
       "1    08-03-2014\n",
       "2    21-08-2013\n",
       "3    10-02-2014\n",
       "4    19-01-2014\n",
       "Name: Dt_Customer, dtype: object"
      ]
     },
     "execution_count": 6,
     "metadata": {},
     "output_type": "execute_result"
    }
   ],
   "source": [
    "df['Dt_Customer'].head()\n",
    "#data[['Dt_Customer']].head()"
   ]
  },
  {
   "cell_type": "markdown",
   "id": "9961618d",
   "metadata": {
    "papermill": {
     "duration": 0.009273,
     "end_time": "2023-04-09T23:00:54.616371",
     "exception": false,
     "start_time": "2023-04-09T23:00:54.607098",
     "status": "completed"
    },
    "tags": []
   },
   "source": [
    "it should be a datetime type as attribute"
   ]
  },
  {
   "cell_type": "code",
   "execution_count": 7,
   "id": "8794a84f",
   "metadata": {
    "execution": {
     "iopub.execute_input": "2023-04-09T23:00:54.637048Z",
     "iopub.status.busy": "2023-04-09T23:00:54.636601Z",
     "iopub.status.idle": "2023-04-09T23:00:54.647043Z",
     "shell.execute_reply": "2023-04-09T23:00:54.645962Z"
    },
    "papermill": {
     "duration": 0.023781,
     "end_time": "2023-04-09T23:00:54.649419",
     "exception": false,
     "start_time": "2023-04-09T23:00:54.625638",
     "status": "completed"
    },
    "tags": []
   },
   "outputs": [],
   "source": [
    "df['Dt_Customer'] = pd.to_datetime(df['Dt_Customer'])"
   ]
  },
  {
   "cell_type": "code",
   "execution_count": 8,
   "id": "7e0714c4",
   "metadata": {
    "execution": {
     "iopub.execute_input": "2023-04-09T23:00:54.669905Z",
     "iopub.status.busy": "2023-04-09T23:00:54.669503Z",
     "iopub.status.idle": "2023-04-09T23:00:54.677726Z",
     "shell.execute_reply": "2023-04-09T23:00:54.676397Z"
    },
    "papermill": {
     "duration": 0.02142,
     "end_time": "2023-04-09T23:00:54.680111",
     "exception": false,
     "start_time": "2023-04-09T23:00:54.658691",
     "status": "completed"
    },
    "tags": []
   },
   "outputs": [
    {
     "data": {
      "text/plain": [
       "datetime.date(2012, 4, 9)"
      ]
     },
     "execution_count": 8,
     "metadata": {},
     "output_type": "execute_result"
    }
   ],
   "source": [
    "df['Dt_Customer'][0].date()"
   ]
  },
  {
   "cell_type": "markdown",
   "id": "4cdb93e6",
   "metadata": {
    "papermill": {
     "duration": 0.009275,
     "end_time": "2023-04-09T23:00:54.699170",
     "exception": false,
     "start_time": "2023-04-09T23:00:54.689895",
     "status": "completed"
    },
    "tags": []
   },
   "source": [
    "now i get the newest and oldest dates of this column"
   ]
  },
  {
   "cell_type": "code",
   "execution_count": 9,
   "id": "4eaff599",
   "metadata": {
    "execution": {
     "iopub.execute_input": "2023-04-09T23:00:54.720157Z",
     "iopub.status.busy": "2023-04-09T23:00:54.719740Z",
     "iopub.status.idle": "2023-04-09T23:00:54.730544Z",
     "shell.execute_reply": "2023-04-09T23:00:54.729144Z"
    },
    "papermill": {
     "duration": 0.025107,
     "end_time": "2023-04-09T23:00:54.733576",
     "exception": false,
     "start_time": "2023-04-09T23:00:54.708469",
     "status": "completed"
    },
    "tags": []
   },
   "outputs": [
    {
     "name": "stdout",
     "output_type": "stream",
     "text": [
      "The newest customer's enrolment date in therecords: 2014-12-06\n",
      "The oldest customer's enrolment date in the records: 2012-01-08\n"
     ]
    }
   ],
   "source": [
    "dates = []\n",
    "for i in df['Dt_Customer']:\n",
    "    i = i.date() #to use max and min\n",
    "    dates.append(i)\n",
    "    \n",
    "newest = max(dates)\n",
    "oldest = min(dates)\n",
    "\n",
    "print(f\"The newest customer's enrolment date in therecords: {newest}\")\n",
    "print(f\"The oldest customer's enrolment date in the records: {oldest}\")"
   ]
  },
  {
   "cell_type": "code",
   "execution_count": 10,
   "id": "845b206c",
   "metadata": {
    "execution": {
     "iopub.execute_input": "2023-04-09T23:00:54.754566Z",
     "iopub.status.busy": "2023-04-09T23:00:54.753314Z",
     "iopub.status.idle": "2023-04-09T23:00:54.774709Z",
     "shell.execute_reply": "2023-04-09T23:00:54.773263Z"
    },
    "papermill": {
     "duration": 0.03485,
     "end_time": "2023-04-09T23:00:54.777651",
     "exception": false,
     "start_time": "2023-04-09T23:00:54.742801",
     "status": "completed"
    },
    "tags": []
   },
   "outputs": [
    {
     "data": {
      "text/plain": [
       "0      971 days\n",
       "1      125 days\n",
       "2      472 days\n",
       "3       65 days\n",
       "4      321 days\n",
       "         ...   \n",
       "2235   541 days\n",
       "2236    61 days\n",
       "2237   315 days\n",
       "2238   316 days\n",
       "2239   782 days\n",
       "Name: Customer_For, Length: 2216, dtype: timedelta64[ns]"
      ]
     },
     "execution_count": 10,
     "metadata": {},
     "output_type": "execute_result"
    }
   ],
   "source": [
    "daysRegistered = []\n",
    "for i in dates:\n",
    "    delta = newest - i #return value in days, LOL\n",
    "    daysRegistered.append(delta)\n",
    "\n",
    "df[\"Customer_For\"] = daysRegistered\n",
    "df[\"Customer_For\"]"
   ]
  },
  {
   "cell_type": "markdown",
   "id": "ecb05796",
   "metadata": {
    "papermill": {
     "duration": 0.00955,
     "end_time": "2023-04-09T23:00:54.797287",
     "exception": false,
     "start_time": "2023-04-09T23:00:54.787737",
     "status": "completed"
    },
    "tags": []
   },
   "source": [
    "We should change timeDelta type to integer on this new attribute. \n",
    "\n",
    "We use for that the pandas function to_numeric with \n",
    "\n",
    "If the error argument is passed as **coerce**, then invalid parsing will be set as **NaN**.\n"
   ]
  },
  {
   "cell_type": "code",
   "execution_count": 11,
   "id": "a8eb9e12",
   "metadata": {
    "execution": {
     "iopub.execute_input": "2023-04-09T23:00:54.817785Z",
     "iopub.status.busy": "2023-04-09T23:00:54.817352Z",
     "iopub.status.idle": "2023-04-09T23:00:54.827861Z",
     "shell.execute_reply": "2023-04-09T23:00:54.826405Z"
    },
    "papermill": {
     "duration": 0.024145,
     "end_time": "2023-04-09T23:00:54.830615",
     "exception": false,
     "start_time": "2023-04-09T23:00:54.806470",
     "status": "completed"
    },
    "tags": []
   },
   "outputs": [
    {
     "data": {
      "text/plain": [
       "0       83894400000000000\n",
       "1       10800000000000000\n",
       "2       40780800000000000\n",
       "3        5616000000000000\n",
       "4       27734400000000000\n",
       "              ...        \n",
       "2235    46742400000000000\n",
       "2236     5270400000000000\n",
       "2237    27216000000000000\n",
       "2238    27302400000000000\n",
       "2239    67564800000000000\n",
       "Name: Customer_For, Length: 2216, dtype: int64"
      ]
     },
     "execution_count": 11,
     "metadata": {},
     "output_type": "execute_result"
    }
   ],
   "source": [
    "df['Customer_For'] = pd.to_numeric(df['Customer_For'], errors='coerce')\n",
    "df['Customer_For']"
   ]
  },
  {
   "cell_type": "markdown",
   "id": "b4dc2e01",
   "metadata": {
    "papermill": {
     "duration": 0.009127,
     "end_time": "2023-04-09T23:00:54.849768",
     "exception": false,
     "start_time": "2023-04-09T23:00:54.840641",
     "status": "completed"
    },
    "tags": []
   },
   "source": [
    "## Now we will be exploring the unique values in the categorical features to get a clear idea of the data.\n",
    "## 👀"
   ]
  },
  {
   "cell_type": "code",
   "execution_count": 12,
   "id": "59e96408",
   "metadata": {
    "execution": {
     "iopub.execute_input": "2023-04-09T23:00:54.870471Z",
     "iopub.status.busy": "2023-04-09T23:00:54.870082Z",
     "iopub.status.idle": "2023-04-09T23:00:54.880265Z",
     "shell.execute_reply": "2023-04-09T23:00:54.878831Z"
    },
    "papermill": {
     "duration": 0.023474,
     "end_time": "2023-04-09T23:00:54.882655",
     "exception": false,
     "start_time": "2023-04-09T23:00:54.859181",
     "status": "completed"
    },
    "tags": []
   },
   "outputs": [
    {
     "name": "stdout",
     "output_type": "stream",
     "text": [
      "Total categories in the feature Marital_Status:\n",
      " Married     857\n",
      "Together    573\n",
      "Single      471\n",
      "Divorced    232\n",
      "Widow        76\n",
      "Alone         3\n",
      "Absurd        2\n",
      "YOLO          2\n",
      "Name: Marital_Status, dtype: int64 \n",
      "\n",
      "Total categories in the feature Education:\n",
      " Graduation    1116\n",
      "PhD            481\n",
      "Master         365\n",
      "2n Cycle       200\n",
      "Basic           54\n",
      "Name: Education, dtype: int64\n"
     ]
    }
   ],
   "source": [
    "mStatusValues = df['Marital_Status'].value_counts()\n",
    "eValues = df['Education'].value_counts()\n",
    "\n",
    "print(f'Total categories in the feature Marital_Status:\\n {mStatusValues} \\n')\n",
    "print(f\"Total categories in the feature Education:\\n {eValues}\")"
   ]
  },
  {
   "cell_type": "markdown",
   "id": "ea6e6a30",
   "metadata": {
    "papermill": {
     "duration": 0.009954,
     "end_time": "2023-04-09T23:00:54.902616",
     "exception": false,
     "start_time": "2023-04-09T23:00:54.892662",
     "status": "completed"
    },
    "tags": []
   },
   "source": [
    "## Extract the \"Age\" of a customer by the \"Year_Birth\" indicating the birth year of the respective person."
   ]
  },
  {
   "cell_type": "code",
   "execution_count": 13,
   "id": "7f82bd6a",
   "metadata": {
    "execution": {
     "iopub.execute_input": "2023-04-09T23:00:54.923615Z",
     "iopub.status.busy": "2023-04-09T23:00:54.923146Z",
     "iopub.status.idle": "2023-04-09T23:00:54.935108Z",
     "shell.execute_reply": "2023-04-09T23:00:54.933551Z"
    },
    "papermill": {
     "duration": 0.025825,
     "end_time": "2023-04-09T23:00:54.938074",
     "exception": false,
     "start_time": "2023-04-09T23:00:54.912249",
     "status": "completed"
    },
    "tags": []
   },
   "outputs": [
    {
     "data": {
      "text/plain": [
       "0       66\n",
       "1       69\n",
       "2       58\n",
       "3       39\n",
       "4       42\n",
       "        ..\n",
       "2235    56\n",
       "2236    77\n",
       "2237    42\n",
       "2238    67\n",
       "2239    69\n",
       "Name: Age, Length: 2216, dtype: int64"
      ]
     },
     "execution_count": 13,
     "metadata": {},
     "output_type": "execute_result"
    }
   ],
   "source": [
    "df['Age'] = 2023 - df['Year_Birth']\n",
    "df['Age']"
   ]
  },
  {
   "cell_type": "markdown",
   "id": "a131403e",
   "metadata": {
    "papermill": {
     "duration": 0.009858,
     "end_time": "2023-04-09T23:00:54.957861",
     "exception": false,
     "start_time": "2023-04-09T23:00:54.948003",
     "status": "completed"
    },
    "tags": []
   },
   "source": [
    "## Create another feature \"Spent\" indicating the total amount spent by the customer in various categories over the span of two years."
   ]
  },
  {
   "cell_type": "code",
   "execution_count": 14,
   "id": "e9bdebdc",
   "metadata": {
    "execution": {
     "iopub.execute_input": "2023-04-09T23:00:54.979417Z",
     "iopub.status.busy": "2023-04-09T23:00:54.978951Z",
     "iopub.status.idle": "2023-04-09T23:00:54.987358Z",
     "shell.execute_reply": "2023-04-09T23:00:54.985758Z"
    },
    "papermill": {
     "duration": 0.022488,
     "end_time": "2023-04-09T23:00:54.989931",
     "exception": false,
     "start_time": "2023-04-09T23:00:54.967443",
     "status": "completed"
    },
    "tags": []
   },
   "outputs": [],
   "source": [
    "df[\"Spent\"] = df[\"MntWines\"]+ df[\"MntFruits\"]+ df[\"MntMeatProducts\"]+ df[\"MntFishProducts\"]+ df[\"MntSweetProducts\"]+ df[\"MntGoldProds\"]"
   ]
  },
  {
   "cell_type": "markdown",
   "id": "63e10163",
   "metadata": {
    "papermill": {
     "duration": 0.010027,
     "end_time": "2023-04-09T23:00:55.009775",
     "exception": false,
     "start_time": "2023-04-09T23:00:54.999748",
     "status": "completed"
    },
    "tags": []
   },
   "source": [
    "## Create another feature \"Living_With\" out of \"Marital_Status\" to extract the living situation of couples.\n",
    "\n",
    "## PARTNER OR ALONE"
   ]
  },
  {
   "cell_type": "code",
   "execution_count": 15,
   "id": "252dd183",
   "metadata": {
    "execution": {
     "iopub.execute_input": "2023-04-09T23:00:55.030940Z",
     "iopub.status.busy": "2023-04-09T23:00:55.030465Z",
     "iopub.status.idle": "2023-04-09T23:00:55.037794Z",
     "shell.execute_reply": "2023-04-09T23:00:55.036267Z"
    },
    "papermill": {
     "duration": 0.021233,
     "end_time": "2023-04-09T23:00:55.040552",
     "exception": false,
     "start_time": "2023-04-09T23:00:55.019319",
     "status": "completed"
    },
    "tags": []
   },
   "outputs": [
    {
     "name": "stdout",
     "output_type": "stream",
     "text": [
      "Total categories in the feature Marital_Status:\n",
      " Married     857\n",
      "Together    573\n",
      "Single      471\n",
      "Divorced    232\n",
      "Widow        76\n",
      "Alone         3\n",
      "Absurd        2\n",
      "YOLO          2\n",
      "Name: Marital_Status, dtype: int64 \n",
      "\n"
     ]
    }
   ],
   "source": [
    "print(f'Total categories in the feature Marital_Status:\\n {mStatusValues} \\n')"
   ]
  },
  {
   "cell_type": "code",
   "execution_count": 16,
   "id": "24d83458",
   "metadata": {
    "execution": {
     "iopub.execute_input": "2023-04-09T23:00:55.062309Z",
     "iopub.status.busy": "2023-04-09T23:00:55.061911Z",
     "iopub.status.idle": "2023-04-09T23:00:55.072348Z",
     "shell.execute_reply": "2023-04-09T23:00:55.071264Z"
    },
    "papermill": {
     "duration": 0.024633,
     "end_time": "2023-04-09T23:00:55.074948",
     "exception": false,
     "start_time": "2023-04-09T23:00:55.050315",
     "status": "completed"
    },
    "tags": []
   },
   "outputs": [],
   "source": [
    "df['Living_with'] = df['Marital_Status'].replace({  \"Married\":\"Partner\", \n",
    "                                                    'Together':'Partner',\n",
    "                                                    'Single':'Alone',\n",
    "                                                    'Divorced':'Alone',\n",
    "                                                    'Widow':'Alone',\n",
    "                                                    'Alone':'Alone',\n",
    "                                                    'Absurd':'Alone',\n",
    "                                                    'YOLO':'Alone'})"
   ]
  },
  {
   "cell_type": "markdown",
   "id": "57f7f5b0",
   "metadata": {
    "papermill": {
     "duration": 0.009974,
     "end_time": "2023-04-09T23:00:55.094708",
     "exception": false,
     "start_time": "2023-04-09T23:00:55.084734",
     "status": "completed"
    },
    "tags": []
   },
   "source": [
    "## Create a feature \"Children\" to indicate total children in a household that is, kids and teenagers.\n",
    "## To get further clarity of household, Creating feature indicating \"Family_Size\""
   ]
  },
  {
   "cell_type": "code",
   "execution_count": 17,
   "id": "54a7c548",
   "metadata": {
    "execution": {
     "iopub.execute_input": "2023-04-09T23:00:55.117988Z",
     "iopub.status.busy": "2023-04-09T23:00:55.117001Z",
     "iopub.status.idle": "2023-04-09T23:00:55.127134Z",
     "shell.execute_reply": "2023-04-09T23:00:55.126070Z"
    },
    "papermill": {
     "duration": 0.025022,
     "end_time": "2023-04-09T23:00:55.129923",
     "exception": false,
     "start_time": "2023-04-09T23:00:55.104901",
     "status": "completed"
    },
    "tags": []
   },
   "outputs": [],
   "source": [
    "# n total of children\n",
    "df['Children'] = df['Teenhome'] + df['Kidhome']\n",
    "\n",
    "# Family size by single or partners plus n of children\n",
    "df['Family_Size'] = df['Living_with'].replace({'Alone':1, 'Partner':2}) + df['Children']\n"
   ]
  },
  {
   "cell_type": "markdown",
   "id": "f7862fff",
   "metadata": {
    "papermill": {
     "duration": 0.009439,
     "end_time": "2023-04-09T23:00:55.149077",
     "exception": false,
     "start_time": "2023-04-09T23:00:55.139638",
     "status": "completed"
    },
    "tags": []
   },
   "source": [
    "## Create a feature \"Is_Parent\" to indicate parenthood status"
   ]
  },
  {
   "cell_type": "code",
   "execution_count": 18,
   "id": "fbebd431",
   "metadata": {
    "execution": {
     "iopub.execute_input": "2023-04-09T23:00:55.170812Z",
     "iopub.status.busy": "2023-04-09T23:00:55.170378Z",
     "iopub.status.idle": "2023-04-09T23:00:55.185502Z",
     "shell.execute_reply": "2023-04-09T23:00:55.184160Z"
    },
    "papermill": {
     "duration": 0.029347,
     "end_time": "2023-04-09T23:00:55.188124",
     "exception": false,
     "start_time": "2023-04-09T23:00:55.158777",
     "status": "completed"
    },
    "tags": []
   },
   "outputs": [
    {
     "data": {
      "text/html": [
       "<div>\n",
       "<style scoped>\n",
       "    .dataframe tbody tr th:only-of-type {\n",
       "        vertical-align: middle;\n",
       "    }\n",
       "\n",
       "    .dataframe tbody tr th {\n",
       "        vertical-align: top;\n",
       "    }\n",
       "\n",
       "    .dataframe thead th {\n",
       "        text-align: right;\n",
       "    }\n",
       "</style>\n",
       "<table border=\"1\" class=\"dataframe\">\n",
       "  <thead>\n",
       "    <tr style=\"text-align: right;\">\n",
       "      <th></th>\n",
       "      <th>Is_Parent</th>\n",
       "    </tr>\n",
       "  </thead>\n",
       "  <tbody>\n",
       "    <tr>\n",
       "      <th>0</th>\n",
       "      <td>0</td>\n",
       "    </tr>\n",
       "    <tr>\n",
       "      <th>1</th>\n",
       "      <td>1</td>\n",
       "    </tr>\n",
       "    <tr>\n",
       "      <th>2</th>\n",
       "      <td>0</td>\n",
       "    </tr>\n",
       "    <tr>\n",
       "      <th>3</th>\n",
       "      <td>1</td>\n",
       "    </tr>\n",
       "    <tr>\n",
       "      <th>4</th>\n",
       "      <td>1</td>\n",
       "    </tr>\n",
       "    <tr>\n",
       "      <th>...</th>\n",
       "      <td>...</td>\n",
       "    </tr>\n",
       "    <tr>\n",
       "      <th>2235</th>\n",
       "      <td>1</td>\n",
       "    </tr>\n",
       "    <tr>\n",
       "      <th>2236</th>\n",
       "      <td>1</td>\n",
       "    </tr>\n",
       "    <tr>\n",
       "      <th>2237</th>\n",
       "      <td>0</td>\n",
       "    </tr>\n",
       "    <tr>\n",
       "      <th>2238</th>\n",
       "      <td>1</td>\n",
       "    </tr>\n",
       "    <tr>\n",
       "      <th>2239</th>\n",
       "      <td>1</td>\n",
       "    </tr>\n",
       "  </tbody>\n",
       "</table>\n",
       "<p>2216 rows × 1 columns</p>\n",
       "</div>"
      ],
      "text/plain": [
       "      Is_Parent\n",
       "0             0\n",
       "1             1\n",
       "2             0\n",
       "3             1\n",
       "4             1\n",
       "...         ...\n",
       "2235          1\n",
       "2236          1\n",
       "2237          0\n",
       "2238          1\n",
       "2239          1\n",
       "\n",
       "[2216 rows x 1 columns]"
      ]
     },
     "execution_count": 18,
     "metadata": {},
     "output_type": "execute_result"
    }
   ],
   "source": [
    "#Feature pertaining parenthood\n",
    "df[\"Is_Parent\"] = np.where(df.Children > 0, 1, 0)\n",
    "df[['Is_Parent']]"
   ]
  },
  {
   "cell_type": "markdown",
   "id": "93054e05",
   "metadata": {
    "papermill": {
     "duration": 0.00963,
     "end_time": "2023-04-09T23:00:55.207561",
     "exception": false,
     "start_time": "2023-04-09T23:00:55.197931",
     "status": "completed"
    },
    "tags": []
   },
   "source": [
    "## Creating three categories in the \"Education\" by simplifying its value counts."
   ]
  },
  {
   "cell_type": "code",
   "execution_count": 19,
   "id": "640b8b31",
   "metadata": {
    "execution": {
     "iopub.execute_input": "2023-04-09T23:00:55.229803Z",
     "iopub.status.busy": "2023-04-09T23:00:55.228838Z",
     "iopub.status.idle": "2023-04-09T23:00:55.236527Z",
     "shell.execute_reply": "2023-04-09T23:00:55.234934Z"
    },
    "papermill": {
     "duration": 0.021808,
     "end_time": "2023-04-09T23:00:55.239246",
     "exception": false,
     "start_time": "2023-04-09T23:00:55.217438",
     "status": "completed"
    },
    "tags": []
   },
   "outputs": [
    {
     "name": "stdout",
     "output_type": "stream",
     "text": [
      "Total categories in the feature Education:\n",
      " Graduation    1116\n",
      "PhD            481\n",
      "Master         365\n",
      "2n Cycle       200\n",
      "Basic           54\n",
      "Name: Education, dtype: int64\n"
     ]
    }
   ],
   "source": [
    "print(f\"Total categories in the feature Education:\\n {eValues}\")"
   ]
  },
  {
   "cell_type": "code",
   "execution_count": 20,
   "id": "c8f2c62d",
   "metadata": {
    "execution": {
     "iopub.execute_input": "2023-04-09T23:00:55.261859Z",
     "iopub.status.busy": "2023-04-09T23:00:55.261405Z",
     "iopub.status.idle": "2023-04-09T23:00:55.278395Z",
     "shell.execute_reply": "2023-04-09T23:00:55.276771Z"
    },
    "papermill": {
     "duration": 0.031499,
     "end_time": "2023-04-09T23:00:55.280778",
     "exception": false,
     "start_time": "2023-04-09T23:00:55.249279",
     "status": "completed"
    },
    "tags": []
   },
   "outputs": [
    {
     "data": {
      "text/html": [
       "<div>\n",
       "<style scoped>\n",
       "    .dataframe tbody tr th:only-of-type {\n",
       "        vertical-align: middle;\n",
       "    }\n",
       "\n",
       "    .dataframe tbody tr th {\n",
       "        vertical-align: top;\n",
       "    }\n",
       "\n",
       "    .dataframe thead th {\n",
       "        text-align: right;\n",
       "    }\n",
       "</style>\n",
       "<table border=\"1\" class=\"dataframe\">\n",
       "  <thead>\n",
       "    <tr style=\"text-align: right;\">\n",
       "      <th></th>\n",
       "      <th>Education</th>\n",
       "    </tr>\n",
       "  </thead>\n",
       "  <tbody>\n",
       "    <tr>\n",
       "      <th>0</th>\n",
       "      <td>Graduate</td>\n",
       "    </tr>\n",
       "    <tr>\n",
       "      <th>1</th>\n",
       "      <td>Graduate</td>\n",
       "    </tr>\n",
       "    <tr>\n",
       "      <th>2</th>\n",
       "      <td>Graduate</td>\n",
       "    </tr>\n",
       "    <tr>\n",
       "      <th>3</th>\n",
       "      <td>Graduate</td>\n",
       "    </tr>\n",
       "    <tr>\n",
       "      <th>4</th>\n",
       "      <td>Postgraduate</td>\n",
       "    </tr>\n",
       "    <tr>\n",
       "      <th>...</th>\n",
       "      <td>...</td>\n",
       "    </tr>\n",
       "    <tr>\n",
       "      <th>2235</th>\n",
       "      <td>Graduate</td>\n",
       "    </tr>\n",
       "    <tr>\n",
       "      <th>2236</th>\n",
       "      <td>Postgraduate</td>\n",
       "    </tr>\n",
       "    <tr>\n",
       "      <th>2237</th>\n",
       "      <td>Graduate</td>\n",
       "    </tr>\n",
       "    <tr>\n",
       "      <th>2238</th>\n",
       "      <td>Postgraduate</td>\n",
       "    </tr>\n",
       "    <tr>\n",
       "      <th>2239</th>\n",
       "      <td>Postgraduate</td>\n",
       "    </tr>\n",
       "  </tbody>\n",
       "</table>\n",
       "<p>2216 rows × 1 columns</p>\n",
       "</div>"
      ],
      "text/plain": [
       "         Education\n",
       "0         Graduate\n",
       "1         Graduate\n",
       "2         Graduate\n",
       "3         Graduate\n",
       "4     Postgraduate\n",
       "...            ...\n",
       "2235      Graduate\n",
       "2236  Postgraduate\n",
       "2237      Graduate\n",
       "2238  Postgraduate\n",
       "2239  Postgraduate\n",
       "\n",
       "[2216 rows x 1 columns]"
      ]
     },
     "execution_count": 20,
     "metadata": {},
     "output_type": "execute_result"
    }
   ],
   "source": [
    "df['Education'] = df['Education'].replace({'Graduation':'Graduate', 'PhD':'Postgraduate', 'Master':'Postgraduate', '2n Cycle':'Undergraduate', 'Basic':'Undergraduate'})\n",
    "df[['Education']]"
   ]
  },
  {
   "cell_type": "markdown",
   "id": "a7dec5d1",
   "metadata": {
    "papermill": {
     "duration": 0.009918,
     "end_time": "2023-04-09T23:00:55.301555",
     "exception": false,
     "start_time": "2023-04-09T23:00:55.291637",
     "status": "completed"
    },
    "tags": []
   },
   "source": [
    "## Dropping some of the redundant features"
   ]
  },
  {
   "cell_type": "code",
   "execution_count": 21,
   "id": "586c6ca8",
   "metadata": {
    "execution": {
     "iopub.execute_input": "2023-04-09T23:00:55.324940Z",
     "iopub.status.busy": "2023-04-09T23:00:55.323849Z",
     "iopub.status.idle": "2023-04-09T23:00:55.330835Z",
     "shell.execute_reply": "2023-04-09T23:00:55.329543Z"
    },
    "papermill": {
     "duration": 0.021938,
     "end_time": "2023-04-09T23:00:55.333693",
     "exception": false,
     "start_time": "2023-04-09T23:00:55.311755",
     "status": "completed"
    },
    "tags": []
   },
   "outputs": [],
   "source": [
    "#Dropping some of the redundant features\n",
    "to_drop = [\"Marital_Status\", \"Dt_Customer\", \"Z_CostContact\", \"Z_Revenue\", \"Year_Birth\", \"ID\"]\n",
    "df = df.drop(to_drop, axis=1)"
   ]
  },
  {
   "cell_type": "code",
   "execution_count": 22,
   "id": "22de54bd",
   "metadata": {
    "execution": {
     "iopub.execute_input": "2023-04-09T23:00:55.356620Z",
     "iopub.status.busy": "2023-04-09T23:00:55.356210Z",
     "iopub.status.idle": "2023-04-09T23:00:55.449287Z",
     "shell.execute_reply": "2023-04-09T23:00:55.447809Z"
    },
    "papermill": {
     "duration": 0.108079,
     "end_time": "2023-04-09T23:00:55.451930",
     "exception": false,
     "start_time": "2023-04-09T23:00:55.343851",
     "status": "completed"
    },
    "tags": []
   },
   "outputs": [
    {
     "data": {
      "text/html": [
       "<div>\n",
       "<style scoped>\n",
       "    .dataframe tbody tr th:only-of-type {\n",
       "        vertical-align: middle;\n",
       "    }\n",
       "\n",
       "    .dataframe tbody tr th {\n",
       "        vertical-align: top;\n",
       "    }\n",
       "\n",
       "    .dataframe thead th {\n",
       "        text-align: right;\n",
       "    }\n",
       "</style>\n",
       "<table border=\"1\" class=\"dataframe\">\n",
       "  <thead>\n",
       "    <tr style=\"text-align: right;\">\n",
       "      <th></th>\n",
       "      <th>Income</th>\n",
       "      <th>Kidhome</th>\n",
       "      <th>Teenhome</th>\n",
       "      <th>Recency</th>\n",
       "      <th>MntWines</th>\n",
       "      <th>MntFruits</th>\n",
       "      <th>MntMeatProducts</th>\n",
       "      <th>MntFishProducts</th>\n",
       "      <th>MntSweetProducts</th>\n",
       "      <th>MntGoldProds</th>\n",
       "      <th>...</th>\n",
       "      <th>AcceptedCmp1</th>\n",
       "      <th>AcceptedCmp2</th>\n",
       "      <th>Complain</th>\n",
       "      <th>Response</th>\n",
       "      <th>Customer_For</th>\n",
       "      <th>Age</th>\n",
       "      <th>Spent</th>\n",
       "      <th>Children</th>\n",
       "      <th>Family_Size</th>\n",
       "      <th>Is_Parent</th>\n",
       "    </tr>\n",
       "  </thead>\n",
       "  <tbody>\n",
       "    <tr>\n",
       "      <th>count</th>\n",
       "      <td>2216.000000</td>\n",
       "      <td>2216.000000</td>\n",
       "      <td>2216.000000</td>\n",
       "      <td>2216.000000</td>\n",
       "      <td>2216.000000</td>\n",
       "      <td>2216.000000</td>\n",
       "      <td>2216.000000</td>\n",
       "      <td>2216.000000</td>\n",
       "      <td>2216.000000</td>\n",
       "      <td>2216.000000</td>\n",
       "      <td>...</td>\n",
       "      <td>2216.000000</td>\n",
       "      <td>2216.000000</td>\n",
       "      <td>2216.000000</td>\n",
       "      <td>2216.000000</td>\n",
       "      <td>2.216000e+03</td>\n",
       "      <td>2216.000000</td>\n",
       "      <td>2216.000000</td>\n",
       "      <td>2216.000000</td>\n",
       "      <td>2216.000000</td>\n",
       "      <td>2216.000000</td>\n",
       "    </tr>\n",
       "    <tr>\n",
       "      <th>mean</th>\n",
       "      <td>52247.251354</td>\n",
       "      <td>0.441787</td>\n",
       "      <td>0.505415</td>\n",
       "      <td>49.012635</td>\n",
       "      <td>305.091606</td>\n",
       "      <td>26.356047</td>\n",
       "      <td>166.995939</td>\n",
       "      <td>37.637635</td>\n",
       "      <td>27.028881</td>\n",
       "      <td>43.965253</td>\n",
       "      <td>...</td>\n",
       "      <td>0.064079</td>\n",
       "      <td>0.013538</td>\n",
       "      <td>0.009477</td>\n",
       "      <td>0.150271</td>\n",
       "      <td>4.423735e+16</td>\n",
       "      <td>54.179603</td>\n",
       "      <td>607.075361</td>\n",
       "      <td>0.947202</td>\n",
       "      <td>2.592509</td>\n",
       "      <td>0.714350</td>\n",
       "    </tr>\n",
       "    <tr>\n",
       "      <th>std</th>\n",
       "      <td>25173.076661</td>\n",
       "      <td>0.536896</td>\n",
       "      <td>0.544181</td>\n",
       "      <td>28.948352</td>\n",
       "      <td>337.327920</td>\n",
       "      <td>39.793917</td>\n",
       "      <td>224.283273</td>\n",
       "      <td>54.752082</td>\n",
       "      <td>41.072046</td>\n",
       "      <td>51.815414</td>\n",
       "      <td>...</td>\n",
       "      <td>0.244950</td>\n",
       "      <td>0.115588</td>\n",
       "      <td>0.096907</td>\n",
       "      <td>0.357417</td>\n",
       "      <td>2.008532e+16</td>\n",
       "      <td>11.985554</td>\n",
       "      <td>602.900476</td>\n",
       "      <td>0.749062</td>\n",
       "      <td>0.905722</td>\n",
       "      <td>0.451825</td>\n",
       "    </tr>\n",
       "    <tr>\n",
       "      <th>min</th>\n",
       "      <td>1730.000000</td>\n",
       "      <td>0.000000</td>\n",
       "      <td>0.000000</td>\n",
       "      <td>0.000000</td>\n",
       "      <td>0.000000</td>\n",
       "      <td>0.000000</td>\n",
       "      <td>0.000000</td>\n",
       "      <td>0.000000</td>\n",
       "      <td>0.000000</td>\n",
       "      <td>0.000000</td>\n",
       "      <td>...</td>\n",
       "      <td>0.000000</td>\n",
       "      <td>0.000000</td>\n",
       "      <td>0.000000</td>\n",
       "      <td>0.000000</td>\n",
       "      <td>0.000000e+00</td>\n",
       "      <td>27.000000</td>\n",
       "      <td>5.000000</td>\n",
       "      <td>0.000000</td>\n",
       "      <td>1.000000</td>\n",
       "      <td>0.000000</td>\n",
       "    </tr>\n",
       "    <tr>\n",
       "      <th>25%</th>\n",
       "      <td>35303.000000</td>\n",
       "      <td>0.000000</td>\n",
       "      <td>0.000000</td>\n",
       "      <td>24.000000</td>\n",
       "      <td>24.000000</td>\n",
       "      <td>2.000000</td>\n",
       "      <td>16.000000</td>\n",
       "      <td>3.000000</td>\n",
       "      <td>1.000000</td>\n",
       "      <td>9.000000</td>\n",
       "      <td>...</td>\n",
       "      <td>0.000000</td>\n",
       "      <td>0.000000</td>\n",
       "      <td>0.000000</td>\n",
       "      <td>0.000000</td>\n",
       "      <td>2.937600e+16</td>\n",
       "      <td>46.000000</td>\n",
       "      <td>69.000000</td>\n",
       "      <td>0.000000</td>\n",
       "      <td>2.000000</td>\n",
       "      <td>0.000000</td>\n",
       "    </tr>\n",
       "    <tr>\n",
       "      <th>50%</th>\n",
       "      <td>51381.500000</td>\n",
       "      <td>0.000000</td>\n",
       "      <td>0.000000</td>\n",
       "      <td>49.000000</td>\n",
       "      <td>174.500000</td>\n",
       "      <td>8.000000</td>\n",
       "      <td>68.000000</td>\n",
       "      <td>12.000000</td>\n",
       "      <td>8.000000</td>\n",
       "      <td>24.500000</td>\n",
       "      <td>...</td>\n",
       "      <td>0.000000</td>\n",
       "      <td>0.000000</td>\n",
       "      <td>0.000000</td>\n",
       "      <td>0.000000</td>\n",
       "      <td>4.432320e+16</td>\n",
       "      <td>53.000000</td>\n",
       "      <td>396.500000</td>\n",
       "      <td>1.000000</td>\n",
       "      <td>3.000000</td>\n",
       "      <td>1.000000</td>\n",
       "    </tr>\n",
       "    <tr>\n",
       "      <th>75%</th>\n",
       "      <td>68522.000000</td>\n",
       "      <td>1.000000</td>\n",
       "      <td>1.000000</td>\n",
       "      <td>74.000000</td>\n",
       "      <td>505.000000</td>\n",
       "      <td>33.000000</td>\n",
       "      <td>232.250000</td>\n",
       "      <td>50.000000</td>\n",
       "      <td>33.000000</td>\n",
       "      <td>56.000000</td>\n",
       "      <td>...</td>\n",
       "      <td>0.000000</td>\n",
       "      <td>0.000000</td>\n",
       "      <td>0.000000</td>\n",
       "      <td>0.000000</td>\n",
       "      <td>5.927040e+16</td>\n",
       "      <td>64.000000</td>\n",
       "      <td>1048.000000</td>\n",
       "      <td>1.000000</td>\n",
       "      <td>3.000000</td>\n",
       "      <td>1.000000</td>\n",
       "    </tr>\n",
       "    <tr>\n",
       "      <th>max</th>\n",
       "      <td>666666.000000</td>\n",
       "      <td>2.000000</td>\n",
       "      <td>2.000000</td>\n",
       "      <td>99.000000</td>\n",
       "      <td>1493.000000</td>\n",
       "      <td>199.000000</td>\n",
       "      <td>1725.000000</td>\n",
       "      <td>259.000000</td>\n",
       "      <td>262.000000</td>\n",
       "      <td>321.000000</td>\n",
       "      <td>...</td>\n",
       "      <td>1.000000</td>\n",
       "      <td>1.000000</td>\n",
       "      <td>1.000000</td>\n",
       "      <td>1.000000</td>\n",
       "      <td>9.184320e+16</td>\n",
       "      <td>130.000000</td>\n",
       "      <td>2525.000000</td>\n",
       "      <td>3.000000</td>\n",
       "      <td>5.000000</td>\n",
       "      <td>1.000000</td>\n",
       "    </tr>\n",
       "  </tbody>\n",
       "</table>\n",
       "<p>8 rows × 28 columns</p>\n",
       "</div>"
      ],
      "text/plain": [
       "              Income      Kidhome     Teenhome      Recency     MntWines  \\\n",
       "count    2216.000000  2216.000000  2216.000000  2216.000000  2216.000000   \n",
       "mean    52247.251354     0.441787     0.505415    49.012635   305.091606   \n",
       "std     25173.076661     0.536896     0.544181    28.948352   337.327920   \n",
       "min      1730.000000     0.000000     0.000000     0.000000     0.000000   \n",
       "25%     35303.000000     0.000000     0.000000    24.000000    24.000000   \n",
       "50%     51381.500000     0.000000     0.000000    49.000000   174.500000   \n",
       "75%     68522.000000     1.000000     1.000000    74.000000   505.000000   \n",
       "max    666666.000000     2.000000     2.000000    99.000000  1493.000000   \n",
       "\n",
       "         MntFruits  MntMeatProducts  MntFishProducts  MntSweetProducts  \\\n",
       "count  2216.000000      2216.000000      2216.000000       2216.000000   \n",
       "mean     26.356047       166.995939        37.637635         27.028881   \n",
       "std      39.793917       224.283273        54.752082         41.072046   \n",
       "min       0.000000         0.000000         0.000000          0.000000   \n",
       "25%       2.000000        16.000000         3.000000          1.000000   \n",
       "50%       8.000000        68.000000        12.000000          8.000000   \n",
       "75%      33.000000       232.250000        50.000000         33.000000   \n",
       "max     199.000000      1725.000000       259.000000        262.000000   \n",
       "\n",
       "       MntGoldProds  ...  AcceptedCmp1  AcceptedCmp2     Complain  \\\n",
       "count   2216.000000  ...   2216.000000   2216.000000  2216.000000   \n",
       "mean      43.965253  ...      0.064079      0.013538     0.009477   \n",
       "std       51.815414  ...      0.244950      0.115588     0.096907   \n",
       "min        0.000000  ...      0.000000      0.000000     0.000000   \n",
       "25%        9.000000  ...      0.000000      0.000000     0.000000   \n",
       "50%       24.500000  ...      0.000000      0.000000     0.000000   \n",
       "75%       56.000000  ...      0.000000      0.000000     0.000000   \n",
       "max      321.000000  ...      1.000000      1.000000     1.000000   \n",
       "\n",
       "          Response  Customer_For          Age        Spent     Children  \\\n",
       "count  2216.000000  2.216000e+03  2216.000000  2216.000000  2216.000000   \n",
       "mean      0.150271  4.423735e+16    54.179603   607.075361     0.947202   \n",
       "std       0.357417  2.008532e+16    11.985554   602.900476     0.749062   \n",
       "min       0.000000  0.000000e+00    27.000000     5.000000     0.000000   \n",
       "25%       0.000000  2.937600e+16    46.000000    69.000000     0.000000   \n",
       "50%       0.000000  4.432320e+16    53.000000   396.500000     1.000000   \n",
       "75%       0.000000  5.927040e+16    64.000000  1048.000000     1.000000   \n",
       "max       1.000000  9.184320e+16   130.000000  2525.000000     3.000000   \n",
       "\n",
       "       Family_Size    Is_Parent  \n",
       "count  2216.000000  2216.000000  \n",
       "mean      2.592509     0.714350  \n",
       "std       0.905722     0.451825  \n",
       "min       1.000000     0.000000  \n",
       "25%       2.000000     0.000000  \n",
       "50%       3.000000     1.000000  \n",
       "75%       3.000000     1.000000  \n",
       "max       5.000000     1.000000  \n",
       "\n",
       "[8 rows x 28 columns]"
      ]
     },
     "execution_count": 22,
     "metadata": {},
     "output_type": "execute_result"
    }
   ],
   "source": [
    "df.describe()"
   ]
  },
  {
   "cell_type": "code",
   "execution_count": null,
   "id": "d50d47e5",
   "metadata": {
    "papermill": {
     "duration": 0.010247,
     "end_time": "2023-04-09T23:00:55.472865",
     "exception": false,
     "start_time": "2023-04-09T23:00:55.462618",
     "status": "completed"
    },
    "tags": []
   },
   "outputs": [],
   "source": []
  }
 ],
 "metadata": {
  "kernelspec": {
   "display_name": "Python 3",
   "language": "python",
   "name": "python3"
  },
  "language_info": {
   "codemirror_mode": {
    "name": "ipython",
    "version": 3
   },
   "file_extension": ".py",
   "mimetype": "text/x-python",
   "name": "python",
   "nbconvert_exporter": "python",
   "pygments_lexer": "ipython3",
   "version": "3.7.12"
  },
  "papermill": {
   "default_parameters": {},
   "duration": 15.097817,
   "end_time": "2023-04-09T23:00:56.306825",
   "environment_variables": {},
   "exception": null,
   "input_path": "__notebook__.ipynb",
   "output_path": "__notebook__.ipynb",
   "parameters": {},
   "start_time": "2023-04-09T23:00:41.209008",
   "version": "2.4.0"
  }
 },
 "nbformat": 4,
 "nbformat_minor": 5
}
