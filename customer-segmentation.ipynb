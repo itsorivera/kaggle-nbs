{
 "cells": [
  {
   "cell_type": "code",
   "execution_count": 1,
   "id": "15e52917",
   "metadata": {
    "_cell_guid": "b1076dfc-b9ad-4769-8c92-a6c4dae69d19",
    "_uuid": "8f2839f25d086af736a60e9eeb907d3b93b6e0e5",
    "execution": {
     "iopub.execute_input": "2023-04-11T05:49:31.455877Z",
     "iopub.status.busy": "2023-04-11T05:49:31.455414Z",
     "iopub.status.idle": "2023-04-11T05:49:31.472212Z",
     "shell.execute_reply": "2023-04-11T05:49:31.471019Z"
    },
    "papermill": {
     "duration": 0.032523,
     "end_time": "2023-04-11T05:49:31.474799",
     "exception": false,
     "start_time": "2023-04-11T05:49:31.442276",
     "status": "completed"
    },
    "tags": []
   },
   "outputs": [
    {
     "name": "stdout",
     "output_type": "stream",
     "text": [
      "/kaggle/input/customer-personality-analysis/marketing_campaign.csv\n"
     ]
    }
   ],
   "source": [
    "# This Python 3 environment comes with many helpful analytics libraries installed\n",
    "# It is defined by the kaggle/python Docker image: https://github.com/kaggle/docker-python\n",
    "# For example, here's several helpful packages to load\n",
    "\n",
    "import numpy as np # linear algebra\n",
    "import pandas as pd # data processing, CSV file I/O (e.g. pd.read_csv)\n",
    "\n",
    "# Input data files are available in the read-only \"../input/\" directory\n",
    "# For example, running this (by clicking run or pressing Shift+Enter) will list all files under the input directory\n",
    "\n",
    "import os\n",
    "for dirname, _, filenames in os.walk('/kaggle/input'):\n",
    "    for filename in filenames:\n",
    "        print(os.path.join(dirname, filename))\n",
    "\n",
    "# You can write up to 20GB to the current directory (/kaggle/working/) that gets preserved as output when you create a version using \"Save & Run All\" \n",
    "# You can also write temporary files to /kaggle/temp/, but they won't be saved outside of the current session"
   ]
  },
  {
   "cell_type": "code",
   "execution_count": 2,
   "id": "43521602",
   "metadata": {
    "execution": {
     "iopub.execute_input": "2023-04-11T05:49:31.495699Z",
     "iopub.status.busy": "2023-04-11T05:49:31.495263Z",
     "iopub.status.idle": "2023-04-11T05:49:33.521107Z",
     "shell.execute_reply": "2023-04-11T05:49:33.519884Z"
    },
    "papermill": {
     "duration": 2.039866,
     "end_time": "2023-04-11T05:49:33.524213",
     "exception": false,
     "start_time": "2023-04-11T05:49:31.484347",
     "status": "completed"
    },
    "tags": []
   },
   "outputs": [],
   "source": [
    "#Importing the Libraries\n",
    "import numpy as np\n",
    "import pandas as pd\n",
    "import datetime\n",
    "import matplotlib\n",
    "import matplotlib.pyplot as plt\n",
    "from matplotlib import colors\n",
    "import seaborn as sns\n",
    "from sklearn.preprocessing import LabelEncoder\n",
    "from sklearn.preprocessing import StandardScaler\n",
    "from sklearn.decomposition import PCA\n",
    "from yellowbrick.cluster import KElbowVisualizer\n",
    "from sklearn.cluster import KMeans\n",
    "import matplotlib.pyplot as plt, numpy as np\n",
    "from mpl_toolkits.mplot3d import Axes3D\n",
    "from sklearn.cluster import AgglomerativeClustering\n",
    "from matplotlib.colors import ListedColormap\n",
    "from sklearn import metrics\n",
    "import warnings\n",
    "import sys\n",
    "if not sys.warnoptions:\n",
    "    warnings.simplefilter(\"ignore\")\n",
    "np.random.seed(42)"
   ]
  },
  {
   "cell_type": "code",
   "execution_count": 3,
   "id": "f31dfb17",
   "metadata": {
    "execution": {
     "iopub.execute_input": "2023-04-11T05:49:33.546597Z",
     "iopub.status.busy": "2023-04-11T05:49:33.545305Z",
     "iopub.status.idle": "2023-04-11T05:49:33.616417Z",
     "shell.execute_reply": "2023-04-11T05:49:33.615247Z"
    },
    "papermill": {
     "duration": 0.084859,
     "end_time": "2023-04-11T05:49:33.619116",
     "exception": false,
     "start_time": "2023-04-11T05:49:33.534257",
     "status": "completed"
    },
    "tags": []
   },
   "outputs": [
    {
     "name": "stdout",
     "output_type": "stream",
     "text": [
      "Number of datapoints: 2240\n"
     ]
    },
    {
     "data": {
      "text/html": [
       "<div>\n",
       "<style scoped>\n",
       "    .dataframe tbody tr th:only-of-type {\n",
       "        vertical-align: middle;\n",
       "    }\n",
       "\n",
       "    .dataframe tbody tr th {\n",
       "        vertical-align: top;\n",
       "    }\n",
       "\n",
       "    .dataframe thead th {\n",
       "        text-align: right;\n",
       "    }\n",
       "</style>\n",
       "<table border=\"1\" class=\"dataframe\">\n",
       "  <thead>\n",
       "    <tr style=\"text-align: right;\">\n",
       "      <th></th>\n",
       "      <th>ID</th>\n",
       "      <th>Year_Birth</th>\n",
       "      <th>Education</th>\n",
       "      <th>Marital_Status</th>\n",
       "      <th>Income</th>\n",
       "      <th>Kidhome</th>\n",
       "      <th>Teenhome</th>\n",
       "      <th>Dt_Customer</th>\n",
       "      <th>Recency</th>\n",
       "      <th>MntWines</th>\n",
       "      <th>...</th>\n",
       "      <th>NumWebVisitsMonth</th>\n",
       "      <th>AcceptedCmp3</th>\n",
       "      <th>AcceptedCmp4</th>\n",
       "      <th>AcceptedCmp5</th>\n",
       "      <th>AcceptedCmp1</th>\n",
       "      <th>AcceptedCmp2</th>\n",
       "      <th>Complain</th>\n",
       "      <th>Z_CostContact</th>\n",
       "      <th>Z_Revenue</th>\n",
       "      <th>Response</th>\n",
       "    </tr>\n",
       "  </thead>\n",
       "  <tbody>\n",
       "    <tr>\n",
       "      <th>0</th>\n",
       "      <td>5524</td>\n",
       "      <td>1957</td>\n",
       "      <td>Graduation</td>\n",
       "      <td>Single</td>\n",
       "      <td>58138.0</td>\n",
       "      <td>0</td>\n",
       "      <td>0</td>\n",
       "      <td>04-09-2012</td>\n",
       "      <td>58</td>\n",
       "      <td>635</td>\n",
       "      <td>...</td>\n",
       "      <td>7</td>\n",
       "      <td>0</td>\n",
       "      <td>0</td>\n",
       "      <td>0</td>\n",
       "      <td>0</td>\n",
       "      <td>0</td>\n",
       "      <td>0</td>\n",
       "      <td>3</td>\n",
       "      <td>11</td>\n",
       "      <td>1</td>\n",
       "    </tr>\n",
       "    <tr>\n",
       "      <th>1</th>\n",
       "      <td>2174</td>\n",
       "      <td>1954</td>\n",
       "      <td>Graduation</td>\n",
       "      <td>Single</td>\n",
       "      <td>46344.0</td>\n",
       "      <td>1</td>\n",
       "      <td>1</td>\n",
       "      <td>08-03-2014</td>\n",
       "      <td>38</td>\n",
       "      <td>11</td>\n",
       "      <td>...</td>\n",
       "      <td>5</td>\n",
       "      <td>0</td>\n",
       "      <td>0</td>\n",
       "      <td>0</td>\n",
       "      <td>0</td>\n",
       "      <td>0</td>\n",
       "      <td>0</td>\n",
       "      <td>3</td>\n",
       "      <td>11</td>\n",
       "      <td>0</td>\n",
       "    </tr>\n",
       "    <tr>\n",
       "      <th>2</th>\n",
       "      <td>4141</td>\n",
       "      <td>1965</td>\n",
       "      <td>Graduation</td>\n",
       "      <td>Together</td>\n",
       "      <td>71613.0</td>\n",
       "      <td>0</td>\n",
       "      <td>0</td>\n",
       "      <td>21-08-2013</td>\n",
       "      <td>26</td>\n",
       "      <td>426</td>\n",
       "      <td>...</td>\n",
       "      <td>4</td>\n",
       "      <td>0</td>\n",
       "      <td>0</td>\n",
       "      <td>0</td>\n",
       "      <td>0</td>\n",
       "      <td>0</td>\n",
       "      <td>0</td>\n",
       "      <td>3</td>\n",
       "      <td>11</td>\n",
       "      <td>0</td>\n",
       "    </tr>\n",
       "    <tr>\n",
       "      <th>3</th>\n",
       "      <td>6182</td>\n",
       "      <td>1984</td>\n",
       "      <td>Graduation</td>\n",
       "      <td>Together</td>\n",
       "      <td>26646.0</td>\n",
       "      <td>1</td>\n",
       "      <td>0</td>\n",
       "      <td>10-02-2014</td>\n",
       "      <td>26</td>\n",
       "      <td>11</td>\n",
       "      <td>...</td>\n",
       "      <td>6</td>\n",
       "      <td>0</td>\n",
       "      <td>0</td>\n",
       "      <td>0</td>\n",
       "      <td>0</td>\n",
       "      <td>0</td>\n",
       "      <td>0</td>\n",
       "      <td>3</td>\n",
       "      <td>11</td>\n",
       "      <td>0</td>\n",
       "    </tr>\n",
       "    <tr>\n",
       "      <th>4</th>\n",
       "      <td>5324</td>\n",
       "      <td>1981</td>\n",
       "      <td>PhD</td>\n",
       "      <td>Married</td>\n",
       "      <td>58293.0</td>\n",
       "      <td>1</td>\n",
       "      <td>0</td>\n",
       "      <td>19-01-2014</td>\n",
       "      <td>94</td>\n",
       "      <td>173</td>\n",
       "      <td>...</td>\n",
       "      <td>5</td>\n",
       "      <td>0</td>\n",
       "      <td>0</td>\n",
       "      <td>0</td>\n",
       "      <td>0</td>\n",
       "      <td>0</td>\n",
       "      <td>0</td>\n",
       "      <td>3</td>\n",
       "      <td>11</td>\n",
       "      <td>0</td>\n",
       "    </tr>\n",
       "  </tbody>\n",
       "</table>\n",
       "<p>5 rows × 29 columns</p>\n",
       "</div>"
      ],
      "text/plain": [
       "     ID  Year_Birth   Education Marital_Status   Income  Kidhome  Teenhome  \\\n",
       "0  5524        1957  Graduation         Single  58138.0        0         0   \n",
       "1  2174        1954  Graduation         Single  46344.0        1         1   \n",
       "2  4141        1965  Graduation       Together  71613.0        0         0   \n",
       "3  6182        1984  Graduation       Together  26646.0        1         0   \n",
       "4  5324        1981         PhD        Married  58293.0        1         0   \n",
       "\n",
       "  Dt_Customer  Recency  MntWines  ...  NumWebVisitsMonth  AcceptedCmp3  \\\n",
       "0  04-09-2012       58       635  ...                  7             0   \n",
       "1  08-03-2014       38        11  ...                  5             0   \n",
       "2  21-08-2013       26       426  ...                  4             0   \n",
       "3  10-02-2014       26        11  ...                  6             0   \n",
       "4  19-01-2014       94       173  ...                  5             0   \n",
       "\n",
       "   AcceptedCmp4  AcceptedCmp5  AcceptedCmp1  AcceptedCmp2  Complain  \\\n",
       "0             0             0             0             0         0   \n",
       "1             0             0             0             0         0   \n",
       "2             0             0             0             0         0   \n",
       "3             0             0             0             0         0   \n",
       "4             0             0             0             0         0   \n",
       "\n",
       "   Z_CostContact  Z_Revenue  Response  \n",
       "0              3         11         1  \n",
       "1              3         11         0  \n",
       "2              3         11         0  \n",
       "3              3         11         0  \n",
       "4              3         11         0  \n",
       "\n",
       "[5 rows x 29 columns]"
      ]
     },
     "execution_count": 3,
     "metadata": {},
     "output_type": "execute_result"
    }
   ],
   "source": [
    "#Loading the dataset\n",
    "data = pd.read_csv(\"../input/customer-personality-analysis/marketing_campaign.csv\", sep=\"\\t\")\n",
    "print(\"Number of datapoints:\", len(data))\n",
    "data.head()"
   ]
  },
  {
   "cell_type": "markdown",
   "id": "c0d31820",
   "metadata": {
    "papermill": {
     "duration": 0.009741,
     "end_time": "2023-04-11T05:49:33.638932",
     "exception": false,
     "start_time": "2023-04-11T05:49:33.629191",
     "status": "completed"
    },
    "tags": []
   },
   "source": [
    "### Feature Engineering"
   ]
  },
  {
   "cell_type": "markdown",
   "id": "77e821bc",
   "metadata": {
    "papermill": {
     "duration": 0.009462,
     "end_time": "2023-04-11T05:49:33.659085",
     "exception": false,
     "start_time": "2023-04-11T05:49:33.649623",
     "status": "completed"
    },
    "tags": []
   },
   "source": [
    "Have a look at the information in data."
   ]
  },
  {
   "cell_type": "code",
   "execution_count": 4,
   "id": "0ecbd565",
   "metadata": {
    "execution": {
     "iopub.execute_input": "2023-04-11T05:49:33.681264Z",
     "iopub.status.busy": "2023-04-11T05:49:33.680363Z",
     "iopub.status.idle": "2023-04-11T05:49:33.706118Z",
     "shell.execute_reply": "2023-04-11T05:49:33.704580Z"
    },
    "papermill": {
     "duration": 0.039914,
     "end_time": "2023-04-11T05:49:33.708819",
     "exception": false,
     "start_time": "2023-04-11T05:49:33.668905",
     "status": "completed"
    },
    "tags": []
   },
   "outputs": [
    {
     "name": "stdout",
     "output_type": "stream",
     "text": [
      "<class 'pandas.core.frame.DataFrame'>\n",
      "RangeIndex: 2240 entries, 0 to 2239\n",
      "Data columns (total 29 columns):\n",
      " #   Column               Non-Null Count  Dtype  \n",
      "---  ------               --------------  -----  \n",
      " 0   ID                   2240 non-null   int64  \n",
      " 1   Year_Birth           2240 non-null   int64  \n",
      " 2   Education            2240 non-null   object \n",
      " 3   Marital_Status       2240 non-null   object \n",
      " 4   Income               2216 non-null   float64\n",
      " 5   Kidhome              2240 non-null   int64  \n",
      " 6   Teenhome             2240 non-null   int64  \n",
      " 7   Dt_Customer          2240 non-null   object \n",
      " 8   Recency              2240 non-null   int64  \n",
      " 9   MntWines             2240 non-null   int64  \n",
      " 10  MntFruits            2240 non-null   int64  \n",
      " 11  MntMeatProducts      2240 non-null   int64  \n",
      " 12  MntFishProducts      2240 non-null   int64  \n",
      " 13  MntSweetProducts     2240 non-null   int64  \n",
      " 14  MntGoldProds         2240 non-null   int64  \n",
      " 15  NumDealsPurchases    2240 non-null   int64  \n",
      " 16  NumWebPurchases      2240 non-null   int64  \n",
      " 17  NumCatalogPurchases  2240 non-null   int64  \n",
      " 18  NumStorePurchases    2240 non-null   int64  \n",
      " 19  NumWebVisitsMonth    2240 non-null   int64  \n",
      " 20  AcceptedCmp3         2240 non-null   int64  \n",
      " 21  AcceptedCmp4         2240 non-null   int64  \n",
      " 22  AcceptedCmp5         2240 non-null   int64  \n",
      " 23  AcceptedCmp1         2240 non-null   int64  \n",
      " 24  AcceptedCmp2         2240 non-null   int64  \n",
      " 25  Complain             2240 non-null   int64  \n",
      " 26  Z_CostContact        2240 non-null   int64  \n",
      " 27  Z_Revenue            2240 non-null   int64  \n",
      " 28  Response             2240 non-null   int64  \n",
      "dtypes: float64(1), int64(25), object(3)\n",
      "memory usage: 507.6+ KB\n"
     ]
    }
   ],
   "source": [
    "#Information on features \n",
    "data.info()"
   ]
  },
  {
   "cell_type": "markdown",
   "id": "26a1a9e7",
   "metadata": {
    "papermill": {
     "duration": 0.009714,
     "end_time": "2023-04-11T05:49:33.728580",
     "exception": false,
     "start_time": "2023-04-11T05:49:33.718866",
     "status": "completed"
    },
    "tags": []
   },
   "source": [
    "we have 3 caterogical attributes. There are several miss values on Income attribute. "
   ]
  },
  {
   "cell_type": "code",
   "execution_count": 5,
   "id": "40529ae5",
   "metadata": {
    "execution": {
     "iopub.execute_input": "2023-04-11T05:49:33.750686Z",
     "iopub.status.busy": "2023-04-11T05:49:33.750209Z",
     "iopub.status.idle": "2023-04-11T05:49:33.762201Z",
     "shell.execute_reply": "2023-04-11T05:49:33.760708Z"
    },
    "papermill": {
     "duration": 0.025892,
     "end_time": "2023-04-11T05:49:33.764612",
     "exception": false,
     "start_time": "2023-04-11T05:49:33.738720",
     "status": "completed"
    },
    "tags": []
   },
   "outputs": [
    {
     "name": "stdout",
     "output_type": "stream",
     "text": [
      "The total number of data-points before removing the rows with missing values are: 2240\n",
      "The total number of data-points after removing the rows with missing values are: 2216\n"
     ]
    }
   ],
   "source": [
    "#To remove the NA values\n",
    "print(\"The total number of data-points before removing the rows with missing values are:\", len(data))\n",
    "df = data.dropna()\n",
    "print(\"The total number of data-points after removing the rows with missing values are:\", len(df))"
   ]
  },
  {
   "cell_type": "markdown",
   "id": "0ee7883b",
   "metadata": {
    "papermill": {
     "duration": 0.010068,
     "end_time": "2023-04-11T05:49:33.785165",
     "exception": false,
     "start_time": "2023-04-11T05:49:33.775097",
     "status": "completed"
    },
    "tags": []
   },
   "source": [
    "**Convert object to dateTime type on Dt_Customer**"
   ]
  },
  {
   "cell_type": "code",
   "execution_count": 6,
   "id": "a97fc801",
   "metadata": {
    "execution": {
     "iopub.execute_input": "2023-04-11T05:49:33.807814Z",
     "iopub.status.busy": "2023-04-11T05:49:33.806747Z",
     "iopub.status.idle": "2023-04-11T05:49:33.815276Z",
     "shell.execute_reply": "2023-04-11T05:49:33.814380Z"
    },
    "papermill": {
     "duration": 0.022334,
     "end_time": "2023-04-11T05:49:33.817712",
     "exception": false,
     "start_time": "2023-04-11T05:49:33.795378",
     "status": "completed"
    },
    "tags": []
   },
   "outputs": [
    {
     "data": {
      "text/plain": [
       "0    04-09-2012\n",
       "1    08-03-2014\n",
       "2    21-08-2013\n",
       "3    10-02-2014\n",
       "4    19-01-2014\n",
       "Name: Dt_Customer, dtype: object"
      ]
     },
     "execution_count": 6,
     "metadata": {},
     "output_type": "execute_result"
    }
   ],
   "source": [
    "df['Dt_Customer'].head()\n",
    "#data[['Dt_Customer']].head()"
   ]
  },
  {
   "cell_type": "markdown",
   "id": "d3d849ea",
   "metadata": {
    "papermill": {
     "duration": 0.009729,
     "end_time": "2023-04-11T05:49:33.837909",
     "exception": false,
     "start_time": "2023-04-11T05:49:33.828180",
     "status": "completed"
    },
    "tags": []
   },
   "source": [
    "it should be a datetime type as attribute"
   ]
  },
  {
   "cell_type": "code",
   "execution_count": 7,
   "id": "12c54e3e",
   "metadata": {
    "execution": {
     "iopub.execute_input": "2023-04-11T05:49:33.860109Z",
     "iopub.status.busy": "2023-04-11T05:49:33.859698Z",
     "iopub.status.idle": "2023-04-11T05:49:33.869904Z",
     "shell.execute_reply": "2023-04-11T05:49:33.868702Z"
    },
    "papermill": {
     "duration": 0.024532,
     "end_time": "2023-04-11T05:49:33.872539",
     "exception": false,
     "start_time": "2023-04-11T05:49:33.848007",
     "status": "completed"
    },
    "tags": []
   },
   "outputs": [],
   "source": [
    "df['Dt_Customer'] = pd.to_datetime(df['Dt_Customer'])"
   ]
  },
  {
   "cell_type": "code",
   "execution_count": 8,
   "id": "c1ac3814",
   "metadata": {
    "execution": {
     "iopub.execute_input": "2023-04-11T05:49:33.894923Z",
     "iopub.status.busy": "2023-04-11T05:49:33.894521Z",
     "iopub.status.idle": "2023-04-11T05:49:33.901697Z",
     "shell.execute_reply": "2023-04-11T05:49:33.900775Z"
    },
    "papermill": {
     "duration": 0.020971,
     "end_time": "2023-04-11T05:49:33.903804",
     "exception": false,
     "start_time": "2023-04-11T05:49:33.882833",
     "status": "completed"
    },
    "tags": []
   },
   "outputs": [
    {
     "data": {
      "text/plain": [
       "datetime.date(2012, 4, 9)"
      ]
     },
     "execution_count": 8,
     "metadata": {},
     "output_type": "execute_result"
    }
   ],
   "source": [
    "df['Dt_Customer'][0].date()"
   ]
  },
  {
   "cell_type": "markdown",
   "id": "fbbb2455",
   "metadata": {
    "papermill": {
     "duration": 0.009932,
     "end_time": "2023-04-11T05:49:33.924135",
     "exception": false,
     "start_time": "2023-04-11T05:49:33.914203",
     "status": "completed"
    },
    "tags": []
   },
   "source": [
    "now i get the newest and oldest dates of this column"
   ]
  },
  {
   "cell_type": "code",
   "execution_count": 9,
   "id": "a701251f",
   "metadata": {
    "execution": {
     "iopub.execute_input": "2023-04-11T05:49:33.946775Z",
     "iopub.status.busy": "2023-04-11T05:49:33.946356Z",
     "iopub.status.idle": "2023-04-11T05:49:33.956013Z",
     "shell.execute_reply": "2023-04-11T05:49:33.954625Z"
    },
    "papermill": {
     "duration": 0.024009,
     "end_time": "2023-04-11T05:49:33.958468",
     "exception": false,
     "start_time": "2023-04-11T05:49:33.934459",
     "status": "completed"
    },
    "tags": []
   },
   "outputs": [
    {
     "name": "stdout",
     "output_type": "stream",
     "text": [
      "The newest customer's enrolment date in therecords: 2014-12-06\n",
      "The oldest customer's enrolment date in the records: 2012-01-08\n"
     ]
    }
   ],
   "source": [
    "dates = []\n",
    "for i in df['Dt_Customer']:\n",
    "    i = i.date() #to use max and min\n",
    "    dates.append(i)\n",
    "    \n",
    "newest = max(dates)\n",
    "oldest = min(dates)\n",
    "\n",
    "print(f\"The newest customer's enrolment date in therecords: {newest}\")\n",
    "print(f\"The oldest customer's enrolment date in the records: {oldest}\")"
   ]
  },
  {
   "cell_type": "code",
   "execution_count": 10,
   "id": "70aa9c57",
   "metadata": {
    "execution": {
     "iopub.execute_input": "2023-04-11T05:49:33.981597Z",
     "iopub.status.busy": "2023-04-11T05:49:33.980605Z",
     "iopub.status.idle": "2023-04-11T05:49:33.998933Z",
     "shell.execute_reply": "2023-04-11T05:49:33.998040Z"
    },
    "papermill": {
     "duration": 0.03221,
     "end_time": "2023-04-11T05:49:34.001126",
     "exception": false,
     "start_time": "2023-04-11T05:49:33.968916",
     "status": "completed"
    },
    "tags": []
   },
   "outputs": [
    {
     "data": {
      "text/plain": [
       "0      971 days\n",
       "1      125 days\n",
       "2      472 days\n",
       "3       65 days\n",
       "4      321 days\n",
       "         ...   \n",
       "2235   541 days\n",
       "2236    61 days\n",
       "2237   315 days\n",
       "2238   316 days\n",
       "2239   782 days\n",
       "Name: Customer_For, Length: 2216, dtype: timedelta64[ns]"
      ]
     },
     "execution_count": 10,
     "metadata": {},
     "output_type": "execute_result"
    }
   ],
   "source": [
    "daysRegistered = []\n",
    "for i in dates:\n",
    "    delta = newest - i #return value in days, LOL\n",
    "    daysRegistered.append(delta)\n",
    "\n",
    "df[\"Customer_For\"] = daysRegistered\n",
    "df[\"Customer_For\"]"
   ]
  },
  {
   "cell_type": "markdown",
   "id": "80ad92f9",
   "metadata": {
    "papermill": {
     "duration": 0.010397,
     "end_time": "2023-04-11T05:49:34.022788",
     "exception": false,
     "start_time": "2023-04-11T05:49:34.012391",
     "status": "completed"
    },
    "tags": []
   },
   "source": [
    "We should change timeDelta type to integer on this new attribute. \n",
    "\n",
    "We use for that the pandas function to_numeric with \n",
    "\n",
    "If the error argument is passed as **coerce**, then invalid parsing will be set as **NaN**.\n"
   ]
  },
  {
   "cell_type": "code",
   "execution_count": 11,
   "id": "d42a4c35",
   "metadata": {
    "execution": {
     "iopub.execute_input": "2023-04-11T05:49:34.046056Z",
     "iopub.status.busy": "2023-04-11T05:49:34.045609Z",
     "iopub.status.idle": "2023-04-11T05:49:34.054574Z",
     "shell.execute_reply": "2023-04-11T05:49:34.053338Z"
    },
    "papermill": {
     "duration": 0.023387,
     "end_time": "2023-04-11T05:49:34.056782",
     "exception": false,
     "start_time": "2023-04-11T05:49:34.033395",
     "status": "completed"
    },
    "tags": []
   },
   "outputs": [
    {
     "data": {
      "text/plain": [
       "0       83894400000000000\n",
       "1       10800000000000000\n",
       "2       40780800000000000\n",
       "3        5616000000000000\n",
       "4       27734400000000000\n",
       "              ...        \n",
       "2235    46742400000000000\n",
       "2236     5270400000000000\n",
       "2237    27216000000000000\n",
       "2238    27302400000000000\n",
       "2239    67564800000000000\n",
       "Name: Customer_For, Length: 2216, dtype: int64"
      ]
     },
     "execution_count": 11,
     "metadata": {},
     "output_type": "execute_result"
    }
   ],
   "source": [
    "df['Customer_For'] = pd.to_numeric(df['Customer_For'], errors='coerce')\n",
    "df['Customer_For']"
   ]
  },
  {
   "cell_type": "markdown",
   "id": "f0663fca",
   "metadata": {
    "papermill": {
     "duration": 0.010309,
     "end_time": "2023-04-11T05:49:34.077735",
     "exception": false,
     "start_time": "2023-04-11T05:49:34.067426",
     "status": "completed"
    },
    "tags": []
   },
   "source": [
    "## Now we will be exploring the unique values in the categorical features to get a clear idea of the data.\n",
    "## 👀"
   ]
  },
  {
   "cell_type": "code",
   "execution_count": 12,
   "id": "897774b4",
   "metadata": {
    "execution": {
     "iopub.execute_input": "2023-04-11T05:49:34.100946Z",
     "iopub.status.busy": "2023-04-11T05:49:34.100498Z",
     "iopub.status.idle": "2023-04-11T05:49:34.110115Z",
     "shell.execute_reply": "2023-04-11T05:49:34.108830Z"
    },
    "papermill": {
     "duration": 0.024272,
     "end_time": "2023-04-11T05:49:34.112585",
     "exception": false,
     "start_time": "2023-04-11T05:49:34.088313",
     "status": "completed"
    },
    "tags": []
   },
   "outputs": [
    {
     "name": "stdout",
     "output_type": "stream",
     "text": [
      "Total categories in the feature Marital_Status:\n",
      " Married     857\n",
      "Together    573\n",
      "Single      471\n",
      "Divorced    232\n",
      "Widow        76\n",
      "Alone         3\n",
      "Absurd        2\n",
      "YOLO          2\n",
      "Name: Marital_Status, dtype: int64 \n",
      "\n",
      "Total categories in the feature Education:\n",
      " Graduation    1116\n",
      "PhD            481\n",
      "Master         365\n",
      "2n Cycle       200\n",
      "Basic           54\n",
      "Name: Education, dtype: int64\n"
     ]
    }
   ],
   "source": [
    "mStatusValues = df['Marital_Status'].value_counts()\n",
    "eValues = df['Education'].value_counts()\n",
    "\n",
    "print(f'Total categories in the feature Marital_Status:\\n {mStatusValues} \\n')\n",
    "print(f\"Total categories in the feature Education:\\n {eValues}\")"
   ]
  },
  {
   "cell_type": "markdown",
   "id": "2309867b",
   "metadata": {
    "papermill": {
     "duration": 0.010755,
     "end_time": "2023-04-11T05:49:34.134298",
     "exception": false,
     "start_time": "2023-04-11T05:49:34.123543",
     "status": "completed"
    },
    "tags": []
   },
   "source": [
    "## Extract the \"Age\" of a customer by the \"Year_Birth\" indicating the birth year of the respective person."
   ]
  },
  {
   "cell_type": "code",
   "execution_count": 13,
   "id": "a273b72f",
   "metadata": {
    "execution": {
     "iopub.execute_input": "2023-04-11T05:49:34.158025Z",
     "iopub.status.busy": "2023-04-11T05:49:34.157595Z",
     "iopub.status.idle": "2023-04-11T05:49:34.167113Z",
     "shell.execute_reply": "2023-04-11T05:49:34.166255Z"
    },
    "papermill": {
     "duration": 0.023831,
     "end_time": "2023-04-11T05:49:34.169126",
     "exception": false,
     "start_time": "2023-04-11T05:49:34.145295",
     "status": "completed"
    },
    "tags": []
   },
   "outputs": [
    {
     "data": {
      "text/plain": [
       "0       66\n",
       "1       69\n",
       "2       58\n",
       "3       39\n",
       "4       42\n",
       "        ..\n",
       "2235    56\n",
       "2236    77\n",
       "2237    42\n",
       "2238    67\n",
       "2239    69\n",
       "Name: Age, Length: 2216, dtype: int64"
      ]
     },
     "execution_count": 13,
     "metadata": {},
     "output_type": "execute_result"
    }
   ],
   "source": [
    "df['Age'] = 2023 - df['Year_Birth']\n",
    "df['Age']"
   ]
  },
  {
   "cell_type": "markdown",
   "id": "2eb1eb68",
   "metadata": {
    "papermill": {
     "duration": 0.010303,
     "end_time": "2023-04-11T05:49:34.190131",
     "exception": false,
     "start_time": "2023-04-11T05:49:34.179828",
     "status": "completed"
    },
    "tags": []
   },
   "source": [
    "## Create another feature \"Spent\" indicating the total amount spent by the customer in various categories over the span of two years."
   ]
  },
  {
   "cell_type": "code",
   "execution_count": 14,
   "id": "38d57f2b",
   "metadata": {
    "execution": {
     "iopub.execute_input": "2023-04-11T05:49:34.213598Z",
     "iopub.status.busy": "2023-04-11T05:49:34.213089Z",
     "iopub.status.idle": "2023-04-11T05:49:34.221086Z",
     "shell.execute_reply": "2023-04-11T05:49:34.220058Z"
    },
    "papermill": {
     "duration": 0.022544,
     "end_time": "2023-04-11T05:49:34.223595",
     "exception": false,
     "start_time": "2023-04-11T05:49:34.201051",
     "status": "completed"
    },
    "tags": []
   },
   "outputs": [],
   "source": [
    "df[\"Spent\"] = df[\"MntWines\"]+ df[\"MntFruits\"]+ df[\"MntMeatProducts\"]+ df[\"MntFishProducts\"]+ df[\"MntSweetProducts\"]+ df[\"MntGoldProds\"]"
   ]
  },
  {
   "cell_type": "markdown",
   "id": "f742564c",
   "metadata": {
    "papermill": {
     "duration": 0.010332,
     "end_time": "2023-04-11T05:49:34.244969",
     "exception": false,
     "start_time": "2023-04-11T05:49:34.234637",
     "status": "completed"
    },
    "tags": []
   },
   "source": [
    "## Create another feature \"Living_With\" out of \"Marital_Status\" to extract the living situation of couples.\n",
    "\n",
    "## PARTNER OR ALONE"
   ]
  },
  {
   "cell_type": "code",
   "execution_count": 15,
   "id": "317360d2",
   "metadata": {
    "execution": {
     "iopub.execute_input": "2023-04-11T05:49:34.268684Z",
     "iopub.status.busy": "2023-04-11T05:49:34.268093Z",
     "iopub.status.idle": "2023-04-11T05:49:34.275196Z",
     "shell.execute_reply": "2023-04-11T05:49:34.273996Z"
    },
    "papermill": {
     "duration": 0.021832,
     "end_time": "2023-04-11T05:49:34.277590",
     "exception": false,
     "start_time": "2023-04-11T05:49:34.255758",
     "status": "completed"
    },
    "tags": []
   },
   "outputs": [
    {
     "name": "stdout",
     "output_type": "stream",
     "text": [
      "Total categories in the feature Marital_Status:\n",
      " Married     857\n",
      "Together    573\n",
      "Single      471\n",
      "Divorced    232\n",
      "Widow        76\n",
      "Alone         3\n",
      "Absurd        2\n",
      "YOLO          2\n",
      "Name: Marital_Status, dtype: int64 \n",
      "\n"
     ]
    }
   ],
   "source": [
    "print(f'Total categories in the feature Marital_Status:\\n {mStatusValues} \\n')"
   ]
  },
  {
   "cell_type": "code",
   "execution_count": 16,
   "id": "46c9e193",
   "metadata": {
    "execution": {
     "iopub.execute_input": "2023-04-11T05:49:34.301898Z",
     "iopub.status.busy": "2023-04-11T05:49:34.301188Z",
     "iopub.status.idle": "2023-04-11T05:49:34.310600Z",
     "shell.execute_reply": "2023-04-11T05:49:34.309305Z"
    },
    "papermill": {
     "duration": 0.024265,
     "end_time": "2023-04-11T05:49:34.312909",
     "exception": false,
     "start_time": "2023-04-11T05:49:34.288644",
     "status": "completed"
    },
    "tags": []
   },
   "outputs": [],
   "source": [
    "df['Living_with'] = df['Marital_Status'].replace({  \"Married\":\"Partner\", \n",
    "                                                    'Together':'Partner',\n",
    "                                                    'Single':'Alone',\n",
    "                                                    'Divorced':'Alone',\n",
    "                                                    'Widow':'Alone',\n",
    "                                                    'Alone':'Alone',\n",
    "                                                    'Absurd':'Alone',\n",
    "                                                    'YOLO':'Alone'})"
   ]
  },
  {
   "cell_type": "markdown",
   "id": "c3364171",
   "metadata": {
    "papermill": {
     "duration": 0.010744,
     "end_time": "2023-04-11T05:49:34.334580",
     "exception": false,
     "start_time": "2023-04-11T05:49:34.323836",
     "status": "completed"
    },
    "tags": []
   },
   "source": [
    "## Create a feature \"Children\" to indicate total children in a household that is, kids and teenagers.\n",
    "## To get further clarity of household, Creating feature indicating \"Family_Size\""
   ]
  },
  {
   "cell_type": "code",
   "execution_count": 17,
   "id": "3e53f58f",
   "metadata": {
    "execution": {
     "iopub.execute_input": "2023-04-11T05:49:34.358399Z",
     "iopub.status.busy": "2023-04-11T05:49:34.357955Z",
     "iopub.status.idle": "2023-04-11T05:49:34.368122Z",
     "shell.execute_reply": "2023-04-11T05:49:34.366802Z"
    },
    "papermill": {
     "duration": 0.025247,
     "end_time": "2023-04-11T05:49:34.370784",
     "exception": false,
     "start_time": "2023-04-11T05:49:34.345537",
     "status": "completed"
    },
    "tags": []
   },
   "outputs": [],
   "source": [
    "# n total of children\n",
    "df['Children'] = df['Teenhome'] + df['Kidhome']\n",
    "\n",
    "# Family size by single or partners plus n of children\n",
    "df['Family_Size'] = df['Living_with'].replace({'Alone':1, 'Partner':2}) + df['Children']\n"
   ]
  },
  {
   "cell_type": "markdown",
   "id": "44e5e314",
   "metadata": {
    "papermill": {
     "duration": 0.010693,
     "end_time": "2023-04-11T05:49:34.392522",
     "exception": false,
     "start_time": "2023-04-11T05:49:34.381829",
     "status": "completed"
    },
    "tags": []
   },
   "source": [
    "## Create a feature \"Is_Parent\" to indicate parenthood status"
   ]
  },
  {
   "cell_type": "code",
   "execution_count": 18,
   "id": "ce894b68",
   "metadata": {
    "execution": {
     "iopub.execute_input": "2023-04-11T05:49:34.416576Z",
     "iopub.status.busy": "2023-04-11T05:49:34.416068Z",
     "iopub.status.idle": "2023-04-11T05:49:34.431809Z",
     "shell.execute_reply": "2023-04-11T05:49:34.430571Z"
    },
    "papermill": {
     "duration": 0.030504,
     "end_time": "2023-04-11T05:49:34.434080",
     "exception": false,
     "start_time": "2023-04-11T05:49:34.403576",
     "status": "completed"
    },
    "tags": []
   },
   "outputs": [
    {
     "data": {
      "text/html": [
       "<div>\n",
       "<style scoped>\n",
       "    .dataframe tbody tr th:only-of-type {\n",
       "        vertical-align: middle;\n",
       "    }\n",
       "\n",
       "    .dataframe tbody tr th {\n",
       "        vertical-align: top;\n",
       "    }\n",
       "\n",
       "    .dataframe thead th {\n",
       "        text-align: right;\n",
       "    }\n",
       "</style>\n",
       "<table border=\"1\" class=\"dataframe\">\n",
       "  <thead>\n",
       "    <tr style=\"text-align: right;\">\n",
       "      <th></th>\n",
       "      <th>Is_Parent</th>\n",
       "    </tr>\n",
       "  </thead>\n",
       "  <tbody>\n",
       "    <tr>\n",
       "      <th>0</th>\n",
       "      <td>0</td>\n",
       "    </tr>\n",
       "    <tr>\n",
       "      <th>1</th>\n",
       "      <td>1</td>\n",
       "    </tr>\n",
       "    <tr>\n",
       "      <th>2</th>\n",
       "      <td>0</td>\n",
       "    </tr>\n",
       "    <tr>\n",
       "      <th>3</th>\n",
       "      <td>1</td>\n",
       "    </tr>\n",
       "    <tr>\n",
       "      <th>4</th>\n",
       "      <td>1</td>\n",
       "    </tr>\n",
       "    <tr>\n",
       "      <th>...</th>\n",
       "      <td>...</td>\n",
       "    </tr>\n",
       "    <tr>\n",
       "      <th>2235</th>\n",
       "      <td>1</td>\n",
       "    </tr>\n",
       "    <tr>\n",
       "      <th>2236</th>\n",
       "      <td>1</td>\n",
       "    </tr>\n",
       "    <tr>\n",
       "      <th>2237</th>\n",
       "      <td>0</td>\n",
       "    </tr>\n",
       "    <tr>\n",
       "      <th>2238</th>\n",
       "      <td>1</td>\n",
       "    </tr>\n",
       "    <tr>\n",
       "      <th>2239</th>\n",
       "      <td>1</td>\n",
       "    </tr>\n",
       "  </tbody>\n",
       "</table>\n",
       "<p>2216 rows × 1 columns</p>\n",
       "</div>"
      ],
      "text/plain": [
       "      Is_Parent\n",
       "0             0\n",
       "1             1\n",
       "2             0\n",
       "3             1\n",
       "4             1\n",
       "...         ...\n",
       "2235          1\n",
       "2236          1\n",
       "2237          0\n",
       "2238          1\n",
       "2239          1\n",
       "\n",
       "[2216 rows x 1 columns]"
      ]
     },
     "execution_count": 18,
     "metadata": {},
     "output_type": "execute_result"
    }
   ],
   "source": [
    "#Feature pertaining parenthood\n",
    "df[\"Is_Parent\"] = np.where(df.Children > 0, 1, 0)\n",
    "df[['Is_Parent']]"
   ]
  },
  {
   "cell_type": "markdown",
   "id": "6732d5a9",
   "metadata": {
    "papermill": {
     "duration": 0.010601,
     "end_time": "2023-04-11T05:49:34.455746",
     "exception": false,
     "start_time": "2023-04-11T05:49:34.445145",
     "status": "completed"
    },
    "tags": []
   },
   "source": [
    "## Creating three categories in the \"Education\" by simplifying its value counts."
   ]
  },
  {
   "cell_type": "code",
   "execution_count": 19,
   "id": "26f463d4",
   "metadata": {
    "execution": {
     "iopub.execute_input": "2023-04-11T05:49:34.480092Z",
     "iopub.status.busy": "2023-04-11T05:49:34.479646Z",
     "iopub.status.idle": "2023-04-11T05:49:34.486126Z",
     "shell.execute_reply": "2023-04-11T05:49:34.484722Z"
    },
    "papermill": {
     "duration": 0.021515,
     "end_time": "2023-04-11T05:49:34.488743",
     "exception": false,
     "start_time": "2023-04-11T05:49:34.467228",
     "status": "completed"
    },
    "tags": []
   },
   "outputs": [
    {
     "name": "stdout",
     "output_type": "stream",
     "text": [
      "Total categories in the feature Education:\n",
      " Graduation    1116\n",
      "PhD            481\n",
      "Master         365\n",
      "2n Cycle       200\n",
      "Basic           54\n",
      "Name: Education, dtype: int64\n"
     ]
    }
   ],
   "source": [
    "print(f\"Total categories in the feature Education:\\n {eValues}\")"
   ]
  },
  {
   "cell_type": "code",
   "execution_count": 20,
   "id": "2fd69da2",
   "metadata": {
    "execution": {
     "iopub.execute_input": "2023-04-11T05:49:34.512789Z",
     "iopub.status.busy": "2023-04-11T05:49:34.512338Z",
     "iopub.status.idle": "2023-04-11T05:49:34.528393Z",
     "shell.execute_reply": "2023-04-11T05:49:34.527211Z"
    },
    "papermill": {
     "duration": 0.031154,
     "end_time": "2023-04-11T05:49:34.531032",
     "exception": false,
     "start_time": "2023-04-11T05:49:34.499878",
     "status": "completed"
    },
    "tags": []
   },
   "outputs": [
    {
     "data": {
      "text/html": [
       "<div>\n",
       "<style scoped>\n",
       "    .dataframe tbody tr th:only-of-type {\n",
       "        vertical-align: middle;\n",
       "    }\n",
       "\n",
       "    .dataframe tbody tr th {\n",
       "        vertical-align: top;\n",
       "    }\n",
       "\n",
       "    .dataframe thead th {\n",
       "        text-align: right;\n",
       "    }\n",
       "</style>\n",
       "<table border=\"1\" class=\"dataframe\">\n",
       "  <thead>\n",
       "    <tr style=\"text-align: right;\">\n",
       "      <th></th>\n",
       "      <th>Education</th>\n",
       "    </tr>\n",
       "  </thead>\n",
       "  <tbody>\n",
       "    <tr>\n",
       "      <th>0</th>\n",
       "      <td>Graduate</td>\n",
       "    </tr>\n",
       "    <tr>\n",
       "      <th>1</th>\n",
       "      <td>Graduate</td>\n",
       "    </tr>\n",
       "    <tr>\n",
       "      <th>2</th>\n",
       "      <td>Graduate</td>\n",
       "    </tr>\n",
       "    <tr>\n",
       "      <th>3</th>\n",
       "      <td>Graduate</td>\n",
       "    </tr>\n",
       "    <tr>\n",
       "      <th>4</th>\n",
       "      <td>Postgraduate</td>\n",
       "    </tr>\n",
       "    <tr>\n",
       "      <th>...</th>\n",
       "      <td>...</td>\n",
       "    </tr>\n",
       "    <tr>\n",
       "      <th>2235</th>\n",
       "      <td>Graduate</td>\n",
       "    </tr>\n",
       "    <tr>\n",
       "      <th>2236</th>\n",
       "      <td>Postgraduate</td>\n",
       "    </tr>\n",
       "    <tr>\n",
       "      <th>2237</th>\n",
       "      <td>Graduate</td>\n",
       "    </tr>\n",
       "    <tr>\n",
       "      <th>2238</th>\n",
       "      <td>Postgraduate</td>\n",
       "    </tr>\n",
       "    <tr>\n",
       "      <th>2239</th>\n",
       "      <td>Postgraduate</td>\n",
       "    </tr>\n",
       "  </tbody>\n",
       "</table>\n",
       "<p>2216 rows × 1 columns</p>\n",
       "</div>"
      ],
      "text/plain": [
       "         Education\n",
       "0         Graduate\n",
       "1         Graduate\n",
       "2         Graduate\n",
       "3         Graduate\n",
       "4     Postgraduate\n",
       "...            ...\n",
       "2235      Graduate\n",
       "2236  Postgraduate\n",
       "2237      Graduate\n",
       "2238  Postgraduate\n",
       "2239  Postgraduate\n",
       "\n",
       "[2216 rows x 1 columns]"
      ]
     },
     "execution_count": 20,
     "metadata": {},
     "output_type": "execute_result"
    }
   ],
   "source": [
    "df['Education'] = df['Education'].replace({'Graduation':'Graduate', 'PhD':'Postgraduate', 'Master':'Postgraduate', '2n Cycle':'Undergraduate', 'Basic':'Undergraduate'})\n",
    "df[['Education']]"
   ]
  },
  {
   "cell_type": "markdown",
   "id": "efa8bda0",
   "metadata": {
    "papermill": {
     "duration": 0.011174,
     "end_time": "2023-04-11T05:49:34.553739",
     "exception": false,
     "start_time": "2023-04-11T05:49:34.542565",
     "status": "completed"
    },
    "tags": []
   },
   "source": [
    "## Dropping some of the redundant features"
   ]
  },
  {
   "cell_type": "code",
   "execution_count": 21,
   "id": "de998a64",
   "metadata": {
    "execution": {
     "iopub.execute_input": "2023-04-11T05:49:34.578525Z",
     "iopub.status.busy": "2023-04-11T05:49:34.578085Z",
     "iopub.status.idle": "2023-04-11T05:49:34.585002Z",
     "shell.execute_reply": "2023-04-11T05:49:34.583778Z"
    },
    "papermill": {
     "duration": 0.022114,
     "end_time": "2023-04-11T05:49:34.587272",
     "exception": false,
     "start_time": "2023-04-11T05:49:34.565158",
     "status": "completed"
    },
    "tags": []
   },
   "outputs": [],
   "source": [
    "#Dropping some of the redundant features\n",
    "to_drop = [\"Marital_Status\", \"Dt_Customer\", \"Z_CostContact\", \"Z_Revenue\", \"Year_Birth\", \"ID\"]\n",
    "df = df.drop(to_drop, axis=1)"
   ]
  },
  {
   "cell_type": "markdown",
   "id": "9880232d",
   "metadata": {
    "papermill": {
     "duration": 0.010982,
     "end_time": "2023-04-11T05:49:34.609743",
     "exception": false,
     "start_time": "2023-04-11T05:49:34.598761",
     "status": "completed"
    },
    "tags": []
   },
   "source": [
    "## Data Satus"
   ]
  },
  {
   "cell_type": "code",
   "execution_count": 22,
   "id": "fea569f0",
   "metadata": {
    "execution": {
     "iopub.execute_input": "2023-04-11T05:49:34.634775Z",
     "iopub.status.busy": "2023-04-11T05:49:34.634319Z",
     "iopub.status.idle": "2023-04-11T05:49:34.723678Z",
     "shell.execute_reply": "2023-04-11T05:49:34.722515Z"
    },
    "papermill": {
     "duration": 0.104964,
     "end_time": "2023-04-11T05:49:34.726192",
     "exception": false,
     "start_time": "2023-04-11T05:49:34.621228",
     "status": "completed"
    },
    "tags": []
   },
   "outputs": [
    {
     "data": {
      "text/html": [
       "<div>\n",
       "<style scoped>\n",
       "    .dataframe tbody tr th:only-of-type {\n",
       "        vertical-align: middle;\n",
       "    }\n",
       "\n",
       "    .dataframe tbody tr th {\n",
       "        vertical-align: top;\n",
       "    }\n",
       "\n",
       "    .dataframe thead th {\n",
       "        text-align: right;\n",
       "    }\n",
       "</style>\n",
       "<table border=\"1\" class=\"dataframe\">\n",
       "  <thead>\n",
       "    <tr style=\"text-align: right;\">\n",
       "      <th></th>\n",
       "      <th>Income</th>\n",
       "      <th>Kidhome</th>\n",
       "      <th>Teenhome</th>\n",
       "      <th>Recency</th>\n",
       "      <th>MntWines</th>\n",
       "      <th>MntFruits</th>\n",
       "      <th>MntMeatProducts</th>\n",
       "      <th>MntFishProducts</th>\n",
       "      <th>MntSweetProducts</th>\n",
       "      <th>MntGoldProds</th>\n",
       "      <th>...</th>\n",
       "      <th>AcceptedCmp1</th>\n",
       "      <th>AcceptedCmp2</th>\n",
       "      <th>Complain</th>\n",
       "      <th>Response</th>\n",
       "      <th>Customer_For</th>\n",
       "      <th>Age</th>\n",
       "      <th>Spent</th>\n",
       "      <th>Children</th>\n",
       "      <th>Family_Size</th>\n",
       "      <th>Is_Parent</th>\n",
       "    </tr>\n",
       "  </thead>\n",
       "  <tbody>\n",
       "    <tr>\n",
       "      <th>count</th>\n",
       "      <td>2216.000000</td>\n",
       "      <td>2216.000000</td>\n",
       "      <td>2216.000000</td>\n",
       "      <td>2216.000000</td>\n",
       "      <td>2216.000000</td>\n",
       "      <td>2216.000000</td>\n",
       "      <td>2216.000000</td>\n",
       "      <td>2216.000000</td>\n",
       "      <td>2216.000000</td>\n",
       "      <td>2216.000000</td>\n",
       "      <td>...</td>\n",
       "      <td>2216.000000</td>\n",
       "      <td>2216.000000</td>\n",
       "      <td>2216.000000</td>\n",
       "      <td>2216.000000</td>\n",
       "      <td>2.216000e+03</td>\n",
       "      <td>2216.000000</td>\n",
       "      <td>2216.000000</td>\n",
       "      <td>2216.000000</td>\n",
       "      <td>2216.000000</td>\n",
       "      <td>2216.000000</td>\n",
       "    </tr>\n",
       "    <tr>\n",
       "      <th>mean</th>\n",
       "      <td>52247.251354</td>\n",
       "      <td>0.441787</td>\n",
       "      <td>0.505415</td>\n",
       "      <td>49.012635</td>\n",
       "      <td>305.091606</td>\n",
       "      <td>26.356047</td>\n",
       "      <td>166.995939</td>\n",
       "      <td>37.637635</td>\n",
       "      <td>27.028881</td>\n",
       "      <td>43.965253</td>\n",
       "      <td>...</td>\n",
       "      <td>0.064079</td>\n",
       "      <td>0.013538</td>\n",
       "      <td>0.009477</td>\n",
       "      <td>0.150271</td>\n",
       "      <td>4.423735e+16</td>\n",
       "      <td>54.179603</td>\n",
       "      <td>607.075361</td>\n",
       "      <td>0.947202</td>\n",
       "      <td>2.592509</td>\n",
       "      <td>0.714350</td>\n",
       "    </tr>\n",
       "    <tr>\n",
       "      <th>std</th>\n",
       "      <td>25173.076661</td>\n",
       "      <td>0.536896</td>\n",
       "      <td>0.544181</td>\n",
       "      <td>28.948352</td>\n",
       "      <td>337.327920</td>\n",
       "      <td>39.793917</td>\n",
       "      <td>224.283273</td>\n",
       "      <td>54.752082</td>\n",
       "      <td>41.072046</td>\n",
       "      <td>51.815414</td>\n",
       "      <td>...</td>\n",
       "      <td>0.244950</td>\n",
       "      <td>0.115588</td>\n",
       "      <td>0.096907</td>\n",
       "      <td>0.357417</td>\n",
       "      <td>2.008532e+16</td>\n",
       "      <td>11.985554</td>\n",
       "      <td>602.900476</td>\n",
       "      <td>0.749062</td>\n",
       "      <td>0.905722</td>\n",
       "      <td>0.451825</td>\n",
       "    </tr>\n",
       "    <tr>\n",
       "      <th>min</th>\n",
       "      <td>1730.000000</td>\n",
       "      <td>0.000000</td>\n",
       "      <td>0.000000</td>\n",
       "      <td>0.000000</td>\n",
       "      <td>0.000000</td>\n",
       "      <td>0.000000</td>\n",
       "      <td>0.000000</td>\n",
       "      <td>0.000000</td>\n",
       "      <td>0.000000</td>\n",
       "      <td>0.000000</td>\n",
       "      <td>...</td>\n",
       "      <td>0.000000</td>\n",
       "      <td>0.000000</td>\n",
       "      <td>0.000000</td>\n",
       "      <td>0.000000</td>\n",
       "      <td>0.000000e+00</td>\n",
       "      <td>27.000000</td>\n",
       "      <td>5.000000</td>\n",
       "      <td>0.000000</td>\n",
       "      <td>1.000000</td>\n",
       "      <td>0.000000</td>\n",
       "    </tr>\n",
       "    <tr>\n",
       "      <th>25%</th>\n",
       "      <td>35303.000000</td>\n",
       "      <td>0.000000</td>\n",
       "      <td>0.000000</td>\n",
       "      <td>24.000000</td>\n",
       "      <td>24.000000</td>\n",
       "      <td>2.000000</td>\n",
       "      <td>16.000000</td>\n",
       "      <td>3.000000</td>\n",
       "      <td>1.000000</td>\n",
       "      <td>9.000000</td>\n",
       "      <td>...</td>\n",
       "      <td>0.000000</td>\n",
       "      <td>0.000000</td>\n",
       "      <td>0.000000</td>\n",
       "      <td>0.000000</td>\n",
       "      <td>2.937600e+16</td>\n",
       "      <td>46.000000</td>\n",
       "      <td>69.000000</td>\n",
       "      <td>0.000000</td>\n",
       "      <td>2.000000</td>\n",
       "      <td>0.000000</td>\n",
       "    </tr>\n",
       "    <tr>\n",
       "      <th>50%</th>\n",
       "      <td>51381.500000</td>\n",
       "      <td>0.000000</td>\n",
       "      <td>0.000000</td>\n",
       "      <td>49.000000</td>\n",
       "      <td>174.500000</td>\n",
       "      <td>8.000000</td>\n",
       "      <td>68.000000</td>\n",
       "      <td>12.000000</td>\n",
       "      <td>8.000000</td>\n",
       "      <td>24.500000</td>\n",
       "      <td>...</td>\n",
       "      <td>0.000000</td>\n",
       "      <td>0.000000</td>\n",
       "      <td>0.000000</td>\n",
       "      <td>0.000000</td>\n",
       "      <td>4.432320e+16</td>\n",
       "      <td>53.000000</td>\n",
       "      <td>396.500000</td>\n",
       "      <td>1.000000</td>\n",
       "      <td>3.000000</td>\n",
       "      <td>1.000000</td>\n",
       "    </tr>\n",
       "    <tr>\n",
       "      <th>75%</th>\n",
       "      <td>68522.000000</td>\n",
       "      <td>1.000000</td>\n",
       "      <td>1.000000</td>\n",
       "      <td>74.000000</td>\n",
       "      <td>505.000000</td>\n",
       "      <td>33.000000</td>\n",
       "      <td>232.250000</td>\n",
       "      <td>50.000000</td>\n",
       "      <td>33.000000</td>\n",
       "      <td>56.000000</td>\n",
       "      <td>...</td>\n",
       "      <td>0.000000</td>\n",
       "      <td>0.000000</td>\n",
       "      <td>0.000000</td>\n",
       "      <td>0.000000</td>\n",
       "      <td>5.927040e+16</td>\n",
       "      <td>64.000000</td>\n",
       "      <td>1048.000000</td>\n",
       "      <td>1.000000</td>\n",
       "      <td>3.000000</td>\n",
       "      <td>1.000000</td>\n",
       "    </tr>\n",
       "    <tr>\n",
       "      <th>max</th>\n",
       "      <td>666666.000000</td>\n",
       "      <td>2.000000</td>\n",
       "      <td>2.000000</td>\n",
       "      <td>99.000000</td>\n",
       "      <td>1493.000000</td>\n",
       "      <td>199.000000</td>\n",
       "      <td>1725.000000</td>\n",
       "      <td>259.000000</td>\n",
       "      <td>262.000000</td>\n",
       "      <td>321.000000</td>\n",
       "      <td>...</td>\n",
       "      <td>1.000000</td>\n",
       "      <td>1.000000</td>\n",
       "      <td>1.000000</td>\n",
       "      <td>1.000000</td>\n",
       "      <td>9.184320e+16</td>\n",
       "      <td>130.000000</td>\n",
       "      <td>2525.000000</td>\n",
       "      <td>3.000000</td>\n",
       "      <td>5.000000</td>\n",
       "      <td>1.000000</td>\n",
       "    </tr>\n",
       "  </tbody>\n",
       "</table>\n",
       "<p>8 rows × 28 columns</p>\n",
       "</div>"
      ],
      "text/plain": [
       "              Income      Kidhome     Teenhome      Recency     MntWines  \\\n",
       "count    2216.000000  2216.000000  2216.000000  2216.000000  2216.000000   \n",
       "mean    52247.251354     0.441787     0.505415    49.012635   305.091606   \n",
       "std     25173.076661     0.536896     0.544181    28.948352   337.327920   \n",
       "min      1730.000000     0.000000     0.000000     0.000000     0.000000   \n",
       "25%     35303.000000     0.000000     0.000000    24.000000    24.000000   \n",
       "50%     51381.500000     0.000000     0.000000    49.000000   174.500000   \n",
       "75%     68522.000000     1.000000     1.000000    74.000000   505.000000   \n",
       "max    666666.000000     2.000000     2.000000    99.000000  1493.000000   \n",
       "\n",
       "         MntFruits  MntMeatProducts  MntFishProducts  MntSweetProducts  \\\n",
       "count  2216.000000      2216.000000      2216.000000       2216.000000   \n",
       "mean     26.356047       166.995939        37.637635         27.028881   \n",
       "std      39.793917       224.283273        54.752082         41.072046   \n",
       "min       0.000000         0.000000         0.000000          0.000000   \n",
       "25%       2.000000        16.000000         3.000000          1.000000   \n",
       "50%       8.000000        68.000000        12.000000          8.000000   \n",
       "75%      33.000000       232.250000        50.000000         33.000000   \n",
       "max     199.000000      1725.000000       259.000000        262.000000   \n",
       "\n",
       "       MntGoldProds  ...  AcceptedCmp1  AcceptedCmp2     Complain  \\\n",
       "count   2216.000000  ...   2216.000000   2216.000000  2216.000000   \n",
       "mean      43.965253  ...      0.064079      0.013538     0.009477   \n",
       "std       51.815414  ...      0.244950      0.115588     0.096907   \n",
       "min        0.000000  ...      0.000000      0.000000     0.000000   \n",
       "25%        9.000000  ...      0.000000      0.000000     0.000000   \n",
       "50%       24.500000  ...      0.000000      0.000000     0.000000   \n",
       "75%       56.000000  ...      0.000000      0.000000     0.000000   \n",
       "max      321.000000  ...      1.000000      1.000000     1.000000   \n",
       "\n",
       "          Response  Customer_For          Age        Spent     Children  \\\n",
       "count  2216.000000  2.216000e+03  2216.000000  2216.000000  2216.000000   \n",
       "mean      0.150271  4.423735e+16    54.179603   607.075361     0.947202   \n",
       "std       0.357417  2.008532e+16    11.985554   602.900476     0.749062   \n",
       "min       0.000000  0.000000e+00    27.000000     5.000000     0.000000   \n",
       "25%       0.000000  2.937600e+16    46.000000    69.000000     0.000000   \n",
       "50%       0.000000  4.432320e+16    53.000000   396.500000     1.000000   \n",
       "75%       0.000000  5.927040e+16    64.000000  1048.000000     1.000000   \n",
       "max       1.000000  9.184320e+16   130.000000  2525.000000     3.000000   \n",
       "\n",
       "       Family_Size    Is_Parent  \n",
       "count  2216.000000  2216.000000  \n",
       "mean      2.592509     0.714350  \n",
       "std       0.905722     0.451825  \n",
       "min       1.000000     0.000000  \n",
       "25%       2.000000     0.000000  \n",
       "50%       3.000000     1.000000  \n",
       "75%       3.000000     1.000000  \n",
       "max       5.000000     1.000000  \n",
       "\n",
       "[8 rows x 28 columns]"
      ]
     },
     "execution_count": 22,
     "metadata": {},
     "output_type": "execute_result"
    }
   ],
   "source": [
    "df.describe()"
   ]
  },
  {
   "cell_type": "markdown",
   "id": "2483c846",
   "metadata": {
    "papermill": {
     "duration": 0.011319,
     "end_time": "2023-04-11T05:49:34.749526",
     "exception": false,
     "start_time": "2023-04-11T05:49:34.738207",
     "status": "completed"
    },
    "tags": []
   },
   "source": [
    "These statistics provide a basic understanding of the distribution of income in the dataset. \n",
    "The average income is around $\\$$52,247, but the standard deviation is relatively high, which means that there is a large spread of income values around the mean. The minimum income value is $\\$$1730, while the maximum is $\\$$666,666, indicating that the dataset has a wide range of income values.\n",
    "\n",
    "Quartiles are useful for understanding the spread of a dataset and identifying any potential outliers. If a number falls far below the first quartile or far above the third quartile, it could be an outlier and may need to be investigated further.\n",
    "\n",
    "Suppose you are analyzing the salaries of employees in a company. You have a dataset with the salaries of all employees, and you want to understand the distribution of salaries and identify any potential outliers.\n",
    "\n",
    "You can use quartiles to divide the salaries into four equal parts and calculate the first quartile (Q1), median (Q2), and third quartile (Q3) of the dataset. For example, if you have a dataset of 100 salaries, you can calculate the quartiles as follows:\n",
    "\n",
    "* Q1: The 25th percentile, i.e., the salary below which 25% of the salaries fall\n",
    "* Q2: The 50th percentile, i.e., the median salary\n",
    "* Q3: The 75th percentile, i.e., the salary below which 75% of the salaries fall\n",
    "\n",
    "\n",
    "By calculating the quartiles, you can understand the spread of salaries and identify any potential outliers. For example, if the third quartile (Q3) is much higher than the median (Q2), it could indicate that there are a few employees with very high salaries, which could be investigated further to understand why. Similarly, if the first quartile (Q1) is much lower than the median (Q2), it could indicate that there are employees with very low salaries, which could be investigated to ensure fairness in the compensation structure.\n",
    "\n",
    "In summary, quartiles can be useful in summary statistics analysis to understand the distribution of a dataset and identify any potential outliers or anomalies."
   ]
  },
  {
   "cell_type": "markdown",
   "id": "a2939340",
   "metadata": {
    "papermill": {
     "duration": 0.011484,
     "end_time": "2023-04-11T05:49:34.772835",
     "exception": false,
     "start_time": "2023-04-11T05:49:34.761351",
     "status": "completed"
    },
    "tags": []
   },
   "source": [
    "**Wines**\n",
    "* 25th percentile: 24, which means that **25% of the observations have values equal to or less than 24**.\n",
    "* 50th percentile or median: 174.5, which means that 50% of the observations have values equal to or less than 174.5. In other words, this is the middle value of the dataset.\n",
    "* 75th percentile: 505, which means that 75% of the observations have values equal to or less than 505.\n",
    "\n",
    "Overall, this summary statistics suggests that the mean amount spent on wines in the last 2 years is $\\$$305.09, **but there is a wide variation**\n",
    "in spending between customers, with a standard deviation of $\\$$337.33. \n",
    "\n",
    "Half of the customers spent less than $\\$$174.50 on wines in the last 2 years, while the other half spent more. The majority of customers (75%) spent less than $\\$$505 on wines in the last 2 years. However, **there are some customers who spent up to $\\$$1493 on wines in the last 2 years, which could be considered as outliers.**"
   ]
  },
  {
   "cell_type": "markdown",
   "id": "adae1ddd",
   "metadata": {
    "papermill": {
     "duration": 0.011267,
     "end_time": "2023-04-11T05:49:34.795990",
     "exception": false,
     "start_time": "2023-04-11T05:49:34.784723",
     "status": "completed"
    },
    "tags": []
   },
   "source": [
    "**Fruits**\n",
    "\n",
    "\n",
    "Overall, this summary statistics suggests that the mean amount spent on fruits in the last 2 years is $\\$$26.36, but there is a relatively large variation in spending between customers, with a standard deviation of $\\$$39.79. The majority of customers (50%) spent less than $\\$$8 on fruits in the last 2 years, while 25% of the customers spent less than $\\$$2. However, there are also customers who spent up to $\\$$199 on fruits in the last 2 years, which could be considered as outliers."
   ]
  },
  {
   "cell_type": "markdown",
   "id": "efcb1fd2",
   "metadata": {
    "papermill": {
     "duration": 0.011449,
     "end_time": "2023-04-11T05:49:34.819318",
     "exception": false,
     "start_time": "2023-04-11T05:49:34.807869",
     "status": "completed"
    },
    "tags": []
   },
   "source": [
    "However, it's important to keep in mind that these summary statistics alone do not provide a complete picture of the data. It's important to visualize the data using appropriate plots to get a better understanding of its distribution, identify potential outliers or missing values, and perform further statistical analysis to draw meaningful insights.\n",
    "**it is always important to visually inspect and understand the distribution of the data before drawing any conclusions.**"
   ]
  },
  {
   "cell_type": "markdown",
   "id": "933a3e6b",
   "metadata": {
    "papermill": {
     "duration": 0.011516,
     "end_time": "2023-04-11T05:49:34.842604",
     "exception": false,
     "start_time": "2023-04-11T05:49:34.831088",
     "status": "completed"
    },
    "tags": []
   },
   "source": [
    "**Gold**\n",
    "\n",
    "* The dataset contains 2216 observations.\n",
    "* The mean amount spent on gold in the last 2 years is $\\$$43.97.\n",
    "* The standard deviation of the amount spent on gold is $\\$$51.82, **indicating that the data is moderately spread out around the mean.**\n",
    "* The minimum amount spent on gold is $\\$$0, indicating that some people in the dataset did not spend any money on gold in the last 2 years.\n",
    "* The 25th percentile of the amount spent on gold is $\\$$9, which means that 25% of the people in the dataset spent less than $\\$$9 on gold in the last 2 years.\n",
    "* The median (50th percentile) of the amount spent on gold is $\\$$24.5, which means that 50% of the people in the dataset spent less than $\\$$24.5 on gold in the last 2 years.\n",
    "* The 75th percentile of the amount spent on gold is $\\$$56, which means that 75% of the people in the dataset spent less than $\\$$56 on gold in the last 2 years.\n",
    "* The maximum amount spent on gold is $\\$$321, indicating that some people in the dataset spent a significant amount of money on gold in the last 2 years.\n",
    "\n",
    "\n",
    "Overall, these summary statistics provide a general overview of the amount spent on gold in the dataset, including the average amount, the spread of the data, and the distribution of spending among different groups of people."
   ]
  },
  {
   "cell_type": "markdown",
   "id": "9345347f",
   "metadata": {
    "papermill": {
     "duration": 0.011412,
     "end_time": "2023-04-11T05:49:34.865714",
     "exception": false,
     "start_time": "2023-04-11T05:49:34.854302",
     "status": "completed"
    },
    "tags": []
   },
   "source": [
    "**Standard deviation and key factor to interpret it**\n",
    "\n",
    "\n",
    "Yes, the range of values in the dataset can be an important factor in determining whether a standard deviation is large or small. A larger range of values typically indicates more variability in the data, which can result in a larger standard deviation. On the other hand, a smaller range of values indicates less variability and a smaller standard deviation.\n",
    "\n",
    "However, it's important to note that the size of the standard deviation also depends on the specific shape and distribution of the data. For example, a dataset with a normal distribution and a large range of values may have a smaller standard deviation than a dataset with a skewed distribution and a smaller range of values.\n",
    "\n",
    "*The size of the standard deviation **is not necessarily related to how far it is from the mean**. A standard deviation can be considered large or small depending on the context and the range of values in the dataset.*\n"
   ]
  },
  {
   "cell_type": "code",
   "execution_count": null,
   "id": "97963a8c",
   "metadata": {
    "papermill": {
     "duration": 0.011463,
     "end_time": "2023-04-11T05:49:34.889143",
     "exception": false,
     "start_time": "2023-04-11T05:49:34.877680",
     "status": "completed"
    },
    "tags": []
   },
   "outputs": [],
   "source": []
  }
 ],
 "metadata": {
  "kernelspec": {
   "display_name": "Python 3",
   "language": "python",
   "name": "python3"
  },
  "language_info": {
   "codemirror_mode": {
    "name": "ipython",
    "version": 3
   },
   "file_extension": ".py",
   "mimetype": "text/x-python",
   "name": "python",
   "nbconvert_exporter": "python",
   "pygments_lexer": "ipython3",
   "version": "3.7.12"
  },
  "papermill": {
   "default_parameters": {},
   "duration": 15.438382,
   "end_time": "2023-04-11T05:49:35.725199",
   "environment_variables": {},
   "exception": null,
   "input_path": "__notebook__.ipynb",
   "output_path": "__notebook__.ipynb",
   "parameters": {},
   "start_time": "2023-04-11T05:49:20.286817",
   "version": "2.4.0"
  }
 },
 "nbformat": 4,
 "nbformat_minor": 5
}
