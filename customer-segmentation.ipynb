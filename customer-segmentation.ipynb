{
 "cells": [
  {
   "cell_type": "code",
   "execution_count": 1,
   "id": "9cde122d",
   "metadata": {
    "_cell_guid": "b1076dfc-b9ad-4769-8c92-a6c4dae69d19",
    "_uuid": "8f2839f25d086af736a60e9eeb907d3b93b6e0e5",
    "execution": {
     "iopub.execute_input": "2023-04-09T04:10:30.286331Z",
     "iopub.status.busy": "2023-04-09T04:10:30.285545Z",
     "iopub.status.idle": "2023-04-09T04:10:30.302733Z",
     "shell.execute_reply": "2023-04-09T04:10:30.301728Z"
    },
    "papermill": {
     "duration": 0.025642,
     "end_time": "2023-04-09T04:10:30.304957",
     "exception": false,
     "start_time": "2023-04-09T04:10:30.279315",
     "status": "completed"
    },
    "tags": []
   },
   "outputs": [
    {
     "name": "stdout",
     "output_type": "stream",
     "text": [
      "/kaggle/input/customer-personality-analysis/marketing_campaign.csv\n"
     ]
    }
   ],
   "source": [
    "# This Python 3 environment comes with many helpful analytics libraries installed\n",
    "# It is defined by the kaggle/python Docker image: https://github.com/kaggle/docker-python\n",
    "# For example, here's several helpful packages to load\n",
    "\n",
    "import numpy as np # linear algebra\n",
    "import pandas as pd # data processing, CSV file I/O (e.g. pd.read_csv)\n",
    "\n",
    "# Input data files are available in the read-only \"../input/\" directory\n",
    "# For example, running this (by clicking run or pressing Shift+Enter) will list all files under the input directory\n",
    "\n",
    "import os\n",
    "for dirname, _, filenames in os.walk('/kaggle/input'):\n",
    "    for filename in filenames:\n",
    "        print(os.path.join(dirname, filename))\n",
    "\n",
    "# You can write up to 20GB to the current directory (/kaggle/working/) that gets preserved as output when you create a version using \"Save & Run All\" \n",
    "# You can also write temporary files to /kaggle/temp/, but they won't be saved outside of the current session"
   ]
  },
  {
   "cell_type": "code",
   "execution_count": 2,
   "id": "5f932c0c",
   "metadata": {
    "execution": {
     "iopub.execute_input": "2023-04-09T04:10:30.313602Z",
     "iopub.status.busy": "2023-04-09T04:10:30.313309Z",
     "iopub.status.idle": "2023-04-09T04:10:31.930379Z",
     "shell.execute_reply": "2023-04-09T04:10:31.929345Z"
    },
    "papermill": {
     "duration": 1.624184,
     "end_time": "2023-04-09T04:10:31.932907",
     "exception": false,
     "start_time": "2023-04-09T04:10:30.308723",
     "status": "completed"
    },
    "tags": []
   },
   "outputs": [],
   "source": [
    "#Importing the Libraries\n",
    "import numpy as np\n",
    "import pandas as pd\n",
    "import datetime\n",
    "import matplotlib\n",
    "import matplotlib.pyplot as plt\n",
    "from matplotlib import colors\n",
    "import seaborn as sns\n",
    "from sklearn.preprocessing import LabelEncoder\n",
    "from sklearn.preprocessing import StandardScaler\n",
    "from sklearn.decomposition import PCA\n",
    "from yellowbrick.cluster import KElbowVisualizer\n",
    "from sklearn.cluster import KMeans\n",
    "import matplotlib.pyplot as plt, numpy as np\n",
    "from mpl_toolkits.mplot3d import Axes3D\n",
    "from sklearn.cluster import AgglomerativeClustering\n",
    "from matplotlib.colors import ListedColormap\n",
    "from sklearn import metrics\n",
    "import warnings\n",
    "import sys\n",
    "if not sys.warnoptions:\n",
    "    warnings.simplefilter(\"ignore\")\n",
    "np.random.seed(42)"
   ]
  },
  {
   "cell_type": "code",
   "execution_count": 3,
   "id": "b5edc646",
   "metadata": {
    "execution": {
     "iopub.execute_input": "2023-04-09T04:10:31.942619Z",
     "iopub.status.busy": "2023-04-09T04:10:31.942269Z",
     "iopub.status.idle": "2023-04-09T04:10:31.999603Z",
     "shell.execute_reply": "2023-04-09T04:10:31.998211Z"
    },
    "papermill": {
     "duration": 0.065073,
     "end_time": "2023-04-09T04:10:32.002140",
     "exception": false,
     "start_time": "2023-04-09T04:10:31.937067",
     "status": "completed"
    },
    "tags": []
   },
   "outputs": [
    {
     "name": "stdout",
     "output_type": "stream",
     "text": [
      "Number of datapoints: 2240\n"
     ]
    },
    {
     "data": {
      "text/html": [
       "<div>\n",
       "<style scoped>\n",
       "    .dataframe tbody tr th:only-of-type {\n",
       "        vertical-align: middle;\n",
       "    }\n",
       "\n",
       "    .dataframe tbody tr th {\n",
       "        vertical-align: top;\n",
       "    }\n",
       "\n",
       "    .dataframe thead th {\n",
       "        text-align: right;\n",
       "    }\n",
       "</style>\n",
       "<table border=\"1\" class=\"dataframe\">\n",
       "  <thead>\n",
       "    <tr style=\"text-align: right;\">\n",
       "      <th></th>\n",
       "      <th>ID</th>\n",
       "      <th>Year_Birth</th>\n",
       "      <th>Education</th>\n",
       "      <th>Marital_Status</th>\n",
       "      <th>Income</th>\n",
       "      <th>Kidhome</th>\n",
       "      <th>Teenhome</th>\n",
       "      <th>Dt_Customer</th>\n",
       "      <th>Recency</th>\n",
       "      <th>MntWines</th>\n",
       "      <th>...</th>\n",
       "      <th>NumWebVisitsMonth</th>\n",
       "      <th>AcceptedCmp3</th>\n",
       "      <th>AcceptedCmp4</th>\n",
       "      <th>AcceptedCmp5</th>\n",
       "      <th>AcceptedCmp1</th>\n",
       "      <th>AcceptedCmp2</th>\n",
       "      <th>Complain</th>\n",
       "      <th>Z_CostContact</th>\n",
       "      <th>Z_Revenue</th>\n",
       "      <th>Response</th>\n",
       "    </tr>\n",
       "  </thead>\n",
       "  <tbody>\n",
       "    <tr>\n",
       "      <th>0</th>\n",
       "      <td>5524</td>\n",
       "      <td>1957</td>\n",
       "      <td>Graduation</td>\n",
       "      <td>Single</td>\n",
       "      <td>58138.0</td>\n",
       "      <td>0</td>\n",
       "      <td>0</td>\n",
       "      <td>04-09-2012</td>\n",
       "      <td>58</td>\n",
       "      <td>635</td>\n",
       "      <td>...</td>\n",
       "      <td>7</td>\n",
       "      <td>0</td>\n",
       "      <td>0</td>\n",
       "      <td>0</td>\n",
       "      <td>0</td>\n",
       "      <td>0</td>\n",
       "      <td>0</td>\n",
       "      <td>3</td>\n",
       "      <td>11</td>\n",
       "      <td>1</td>\n",
       "    </tr>\n",
       "    <tr>\n",
       "      <th>1</th>\n",
       "      <td>2174</td>\n",
       "      <td>1954</td>\n",
       "      <td>Graduation</td>\n",
       "      <td>Single</td>\n",
       "      <td>46344.0</td>\n",
       "      <td>1</td>\n",
       "      <td>1</td>\n",
       "      <td>08-03-2014</td>\n",
       "      <td>38</td>\n",
       "      <td>11</td>\n",
       "      <td>...</td>\n",
       "      <td>5</td>\n",
       "      <td>0</td>\n",
       "      <td>0</td>\n",
       "      <td>0</td>\n",
       "      <td>0</td>\n",
       "      <td>0</td>\n",
       "      <td>0</td>\n",
       "      <td>3</td>\n",
       "      <td>11</td>\n",
       "      <td>0</td>\n",
       "    </tr>\n",
       "    <tr>\n",
       "      <th>2</th>\n",
       "      <td>4141</td>\n",
       "      <td>1965</td>\n",
       "      <td>Graduation</td>\n",
       "      <td>Together</td>\n",
       "      <td>71613.0</td>\n",
       "      <td>0</td>\n",
       "      <td>0</td>\n",
       "      <td>21-08-2013</td>\n",
       "      <td>26</td>\n",
       "      <td>426</td>\n",
       "      <td>...</td>\n",
       "      <td>4</td>\n",
       "      <td>0</td>\n",
       "      <td>0</td>\n",
       "      <td>0</td>\n",
       "      <td>0</td>\n",
       "      <td>0</td>\n",
       "      <td>0</td>\n",
       "      <td>3</td>\n",
       "      <td>11</td>\n",
       "      <td>0</td>\n",
       "    </tr>\n",
       "    <tr>\n",
       "      <th>3</th>\n",
       "      <td>6182</td>\n",
       "      <td>1984</td>\n",
       "      <td>Graduation</td>\n",
       "      <td>Together</td>\n",
       "      <td>26646.0</td>\n",
       "      <td>1</td>\n",
       "      <td>0</td>\n",
       "      <td>10-02-2014</td>\n",
       "      <td>26</td>\n",
       "      <td>11</td>\n",
       "      <td>...</td>\n",
       "      <td>6</td>\n",
       "      <td>0</td>\n",
       "      <td>0</td>\n",
       "      <td>0</td>\n",
       "      <td>0</td>\n",
       "      <td>0</td>\n",
       "      <td>0</td>\n",
       "      <td>3</td>\n",
       "      <td>11</td>\n",
       "      <td>0</td>\n",
       "    </tr>\n",
       "    <tr>\n",
       "      <th>4</th>\n",
       "      <td>5324</td>\n",
       "      <td>1981</td>\n",
       "      <td>PhD</td>\n",
       "      <td>Married</td>\n",
       "      <td>58293.0</td>\n",
       "      <td>1</td>\n",
       "      <td>0</td>\n",
       "      <td>19-01-2014</td>\n",
       "      <td>94</td>\n",
       "      <td>173</td>\n",
       "      <td>...</td>\n",
       "      <td>5</td>\n",
       "      <td>0</td>\n",
       "      <td>0</td>\n",
       "      <td>0</td>\n",
       "      <td>0</td>\n",
       "      <td>0</td>\n",
       "      <td>0</td>\n",
       "      <td>3</td>\n",
       "      <td>11</td>\n",
       "      <td>0</td>\n",
       "    </tr>\n",
       "  </tbody>\n",
       "</table>\n",
       "<p>5 rows × 29 columns</p>\n",
       "</div>"
      ],
      "text/plain": [
       "     ID  Year_Birth   Education Marital_Status   Income  Kidhome  Teenhome  \\\n",
       "0  5524        1957  Graduation         Single  58138.0        0         0   \n",
       "1  2174        1954  Graduation         Single  46344.0        1         1   \n",
       "2  4141        1965  Graduation       Together  71613.0        0         0   \n",
       "3  6182        1984  Graduation       Together  26646.0        1         0   \n",
       "4  5324        1981         PhD        Married  58293.0        1         0   \n",
       "\n",
       "  Dt_Customer  Recency  MntWines  ...  NumWebVisitsMonth  AcceptedCmp3  \\\n",
       "0  04-09-2012       58       635  ...                  7             0   \n",
       "1  08-03-2014       38        11  ...                  5             0   \n",
       "2  21-08-2013       26       426  ...                  4             0   \n",
       "3  10-02-2014       26        11  ...                  6             0   \n",
       "4  19-01-2014       94       173  ...                  5             0   \n",
       "\n",
       "   AcceptedCmp4  AcceptedCmp5  AcceptedCmp1  AcceptedCmp2  Complain  \\\n",
       "0             0             0             0             0         0   \n",
       "1             0             0             0             0         0   \n",
       "2             0             0             0             0         0   \n",
       "3             0             0             0             0         0   \n",
       "4             0             0             0             0         0   \n",
       "\n",
       "   Z_CostContact  Z_Revenue  Response  \n",
       "0              3         11         1  \n",
       "1              3         11         0  \n",
       "2              3         11         0  \n",
       "3              3         11         0  \n",
       "4              3         11         0  \n",
       "\n",
       "[5 rows x 29 columns]"
      ]
     },
     "execution_count": 3,
     "metadata": {},
     "output_type": "execute_result"
    }
   ],
   "source": [
    "#Loading the dataset\n",
    "data = pd.read_csv(\"../input/customer-personality-analysis/marketing_campaign.csv\", sep=\"\\t\")\n",
    "print(\"Number of datapoints:\", len(data))\n",
    "data.head()"
   ]
  },
  {
   "cell_type": "markdown",
   "id": "4ef2a9e7",
   "metadata": {
    "papermill": {
     "duration": 0.003649,
     "end_time": "2023-04-09T04:10:32.009951",
     "exception": false,
     "start_time": "2023-04-09T04:10:32.006302",
     "status": "completed"
    },
    "tags": []
   },
   "source": [
    "### Feature Engineering"
   ]
  },
  {
   "cell_type": "markdown",
   "id": "15ef30a8",
   "metadata": {
    "papermill": {
     "duration": 0.003531,
     "end_time": "2023-04-09T04:10:32.017596",
     "exception": false,
     "start_time": "2023-04-09T04:10:32.014065",
     "status": "completed"
    },
    "tags": []
   },
   "source": [
    "Have a look at the information in data."
   ]
  },
  {
   "cell_type": "code",
   "execution_count": 4,
   "id": "f6ea82de",
   "metadata": {
    "execution": {
     "iopub.execute_input": "2023-04-09T04:10:32.027441Z",
     "iopub.status.busy": "2023-04-09T04:10:32.026446Z",
     "iopub.status.idle": "2023-04-09T04:10:32.050869Z",
     "shell.execute_reply": "2023-04-09T04:10:32.049708Z"
    },
    "papermill": {
     "duration": 0.031528,
     "end_time": "2023-04-09T04:10:32.052904",
     "exception": false,
     "start_time": "2023-04-09T04:10:32.021376",
     "status": "completed"
    },
    "tags": []
   },
   "outputs": [
    {
     "name": "stdout",
     "output_type": "stream",
     "text": [
      "<class 'pandas.core.frame.DataFrame'>\n",
      "RangeIndex: 2240 entries, 0 to 2239\n",
      "Data columns (total 29 columns):\n",
      " #   Column               Non-Null Count  Dtype  \n",
      "---  ------               --------------  -----  \n",
      " 0   ID                   2240 non-null   int64  \n",
      " 1   Year_Birth           2240 non-null   int64  \n",
      " 2   Education            2240 non-null   object \n",
      " 3   Marital_Status       2240 non-null   object \n",
      " 4   Income               2216 non-null   float64\n",
      " 5   Kidhome              2240 non-null   int64  \n",
      " 6   Teenhome             2240 non-null   int64  \n",
      " 7   Dt_Customer          2240 non-null   object \n",
      " 8   Recency              2240 non-null   int64  \n",
      " 9   MntWines             2240 non-null   int64  \n",
      " 10  MntFruits            2240 non-null   int64  \n",
      " 11  MntMeatProducts      2240 non-null   int64  \n",
      " 12  MntFishProducts      2240 non-null   int64  \n",
      " 13  MntSweetProducts     2240 non-null   int64  \n",
      " 14  MntGoldProds         2240 non-null   int64  \n",
      " 15  NumDealsPurchases    2240 non-null   int64  \n",
      " 16  NumWebPurchases      2240 non-null   int64  \n",
      " 17  NumCatalogPurchases  2240 non-null   int64  \n",
      " 18  NumStorePurchases    2240 non-null   int64  \n",
      " 19  NumWebVisitsMonth    2240 non-null   int64  \n",
      " 20  AcceptedCmp3         2240 non-null   int64  \n",
      " 21  AcceptedCmp4         2240 non-null   int64  \n",
      " 22  AcceptedCmp5         2240 non-null   int64  \n",
      " 23  AcceptedCmp1         2240 non-null   int64  \n",
      " 24  AcceptedCmp2         2240 non-null   int64  \n",
      " 25  Complain             2240 non-null   int64  \n",
      " 26  Z_CostContact        2240 non-null   int64  \n",
      " 27  Z_Revenue            2240 non-null   int64  \n",
      " 28  Response             2240 non-null   int64  \n",
      "dtypes: float64(1), int64(25), object(3)\n",
      "memory usage: 507.6+ KB\n"
     ]
    }
   ],
   "source": [
    "#Information on features \n",
    "data.info()"
   ]
  },
  {
   "cell_type": "markdown",
   "id": "80e1db6d",
   "metadata": {
    "papermill": {
     "duration": 0.003695,
     "end_time": "2023-04-09T04:10:32.060854",
     "exception": false,
     "start_time": "2023-04-09T04:10:32.057159",
     "status": "completed"
    },
    "tags": []
   },
   "source": [
    "we have 3 caterogical attributes. There are several miss values on Income attribute. "
   ]
  },
  {
   "cell_type": "code",
   "execution_count": 5,
   "id": "ce01f35a",
   "metadata": {
    "execution": {
     "iopub.execute_input": "2023-04-09T04:10:32.070203Z",
     "iopub.status.busy": "2023-04-09T04:10:32.069501Z",
     "iopub.status.idle": "2023-04-09T04:10:32.077503Z",
     "shell.execute_reply": "2023-04-09T04:10:32.076353Z"
    },
    "papermill": {
     "duration": 0.014709,
     "end_time": "2023-04-09T04:10:32.079373",
     "exception": false,
     "start_time": "2023-04-09T04:10:32.064664",
     "status": "completed"
    },
    "tags": []
   },
   "outputs": [
    {
     "name": "stdout",
     "output_type": "stream",
     "text": [
      "The total number of data-points before removing the rows with missing values are: 2240\n",
      "The total number of data-points after removing the rows with missing values are: 2216\n"
     ]
    }
   ],
   "source": [
    "#To remove the NA values\n",
    "print(\"The total number of data-points before removing the rows with missing values are:\", len(data))\n",
    "df = data.dropna()\n",
    "print(\"The total number of data-points after removing the rows with missing values are:\", len(df))"
   ]
  },
  {
   "cell_type": "markdown",
   "id": "99e8dc9b",
   "metadata": {
    "papermill": {
     "duration": 0.00371,
     "end_time": "2023-04-09T04:10:32.087018",
     "exception": false,
     "start_time": "2023-04-09T04:10:32.083308",
     "status": "completed"
    },
    "tags": []
   },
   "source": [
    "**Convert object to dateTime type on Dt_Customer**"
   ]
  },
  {
   "cell_type": "code",
   "execution_count": 6,
   "id": "e59a247d",
   "metadata": {
    "execution": {
     "iopub.execute_input": "2023-04-09T04:10:32.096108Z",
     "iopub.status.busy": "2023-04-09T04:10:32.095803Z",
     "iopub.status.idle": "2023-04-09T04:10:32.102429Z",
     "shell.execute_reply": "2023-04-09T04:10:32.101426Z"
    },
    "papermill": {
     "duration": 0.013458,
     "end_time": "2023-04-09T04:10:32.104286",
     "exception": false,
     "start_time": "2023-04-09T04:10:32.090828",
     "status": "completed"
    },
    "tags": []
   },
   "outputs": [
    {
     "data": {
      "text/plain": [
       "0    04-09-2012\n",
       "1    08-03-2014\n",
       "2    21-08-2013\n",
       "3    10-02-2014\n",
       "4    19-01-2014\n",
       "Name: Dt_Customer, dtype: object"
      ]
     },
     "execution_count": 6,
     "metadata": {},
     "output_type": "execute_result"
    }
   ],
   "source": [
    "df['Dt_Customer'].head()\n",
    "#data[['Dt_Customer']].head()"
   ]
  },
  {
   "cell_type": "markdown",
   "id": "a72dd4d0",
   "metadata": {
    "papermill": {
     "duration": 0.00383,
     "end_time": "2023-04-09T04:10:32.112170",
     "exception": false,
     "start_time": "2023-04-09T04:10:32.108340",
     "status": "completed"
    },
    "tags": []
   },
   "source": [
    "it should be a datetime type as attribute"
   ]
  },
  {
   "cell_type": "code",
   "execution_count": 7,
   "id": "0fc0ca2d",
   "metadata": {
    "execution": {
     "iopub.execute_input": "2023-04-09T04:10:32.121532Z",
     "iopub.status.busy": "2023-04-09T04:10:32.121221Z",
     "iopub.status.idle": "2023-04-09T04:10:32.129161Z",
     "shell.execute_reply": "2023-04-09T04:10:32.128383Z"
    },
    "papermill": {
     "duration": 0.014594,
     "end_time": "2023-04-09T04:10:32.130702",
     "exception": false,
     "start_time": "2023-04-09T04:10:32.116108",
     "status": "completed"
    },
    "tags": []
   },
   "outputs": [],
   "source": [
    "df['Dt_Customer'] = pd.to_datetime(df['Dt_Customer'])"
   ]
  },
  {
   "cell_type": "code",
   "execution_count": 8,
   "id": "0b9e7c0e",
   "metadata": {
    "execution": {
     "iopub.execute_input": "2023-04-09T04:10:32.140415Z",
     "iopub.status.busy": "2023-04-09T04:10:32.139607Z",
     "iopub.status.idle": "2023-04-09T04:10:32.146585Z",
     "shell.execute_reply": "2023-04-09T04:10:32.145423Z"
    },
    "papermill": {
     "duration": 0.013609,
     "end_time": "2023-04-09T04:10:32.148257",
     "exception": false,
     "start_time": "2023-04-09T04:10:32.134648",
     "status": "completed"
    },
    "tags": []
   },
   "outputs": [
    {
     "data": {
      "text/plain": [
       "datetime.date(2012, 4, 9)"
      ]
     },
     "execution_count": 8,
     "metadata": {},
     "output_type": "execute_result"
    }
   ],
   "source": [
    "df['Dt_Customer'][0].date()"
   ]
  },
  {
   "cell_type": "markdown",
   "id": "a9241c38",
   "metadata": {
    "papermill": {
     "duration": 0.003859,
     "end_time": "2023-04-09T04:10:32.156258",
     "exception": false,
     "start_time": "2023-04-09T04:10:32.152399",
     "status": "completed"
    },
    "tags": []
   },
   "source": [
    "now i get the newest and oldest dates of this column"
   ]
  },
  {
   "cell_type": "code",
   "execution_count": 9,
   "id": "6b5f26fe",
   "metadata": {
    "execution": {
     "iopub.execute_input": "2023-04-09T04:10:32.166619Z",
     "iopub.status.busy": "2023-04-09T04:10:32.165899Z",
     "iopub.status.idle": "2023-04-09T04:10:32.175286Z",
     "shell.execute_reply": "2023-04-09T04:10:32.173889Z"
    },
    "papermill": {
     "duration": 0.016828,
     "end_time": "2023-04-09T04:10:32.177122",
     "exception": false,
     "start_time": "2023-04-09T04:10:32.160294",
     "status": "completed"
    },
    "tags": []
   },
   "outputs": [
    {
     "name": "stdout",
     "output_type": "stream",
     "text": [
      "The newest customer's enrolment date in therecords: 2014-12-06\n",
      "The oldest customer's enrolment date in the records: 2012-01-08\n"
     ]
    }
   ],
   "source": [
    "dates = []\n",
    "for i in df['Dt_Customer']:\n",
    "    i = i.date() #to use max and min\n",
    "    dates.append(i)\n",
    "    \n",
    "newest = max(dates)\n",
    "oldest = min(dates)\n",
    "\n",
    "print(f\"The newest customer's enrolment date in therecords: {newest}\")\n",
    "print(f\"The oldest customer's enrolment date in the records: {oldest}\")"
   ]
  },
  {
   "cell_type": "code",
   "execution_count": null,
   "id": "1daa42fa",
   "metadata": {
    "papermill": {
     "duration": 0.00389,
     "end_time": "2023-04-09T04:10:32.185184",
     "exception": false,
     "start_time": "2023-04-09T04:10:32.181294",
     "status": "completed"
    },
    "tags": []
   },
   "outputs": [],
   "source": []
  }
 ],
 "metadata": {
  "kernelspec": {
   "display_name": "Python 3",
   "language": "python",
   "name": "python3"
  },
  "language_info": {
   "codemirror_mode": {
    "name": "ipython",
    "version": 3
   },
   "file_extension": ".py",
   "mimetype": "text/x-python",
   "name": "python",
   "nbconvert_exporter": "python",
   "pygments_lexer": "ipython3",
   "version": "3.7.12"
  },
  "papermill": {
   "default_parameters": {},
   "duration": 11.960129,
   "end_time": "2023-04-09T04:10:32.909618",
   "environment_variables": {},
   "exception": null,
   "input_path": "__notebook__.ipynb",
   "output_path": "__notebook__.ipynb",
   "parameters": {},
   "start_time": "2023-04-09T04:10:20.949489",
   "version": "2.4.0"
  }
 },
 "nbformat": 4,
 "nbformat_minor": 5
}
